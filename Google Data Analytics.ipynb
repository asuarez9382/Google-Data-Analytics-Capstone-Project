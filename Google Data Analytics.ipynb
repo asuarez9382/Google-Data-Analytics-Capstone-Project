{
 "cells": [
  {
   "cell_type": "code",
   "execution_count": 1,
   "id": "47900aaf",
   "metadata": {},
   "outputs": [
    {
     "name": "stderr",
     "output_type": "stream",
     "text": [
      "Installing package into 'C:/Users/asuar/AppData/Local/R/win-library/4.2'\n",
      "(as 'lib' is unspecified)\n",
      "\n"
     ]
    },
    {
     "name": "stdout",
     "output_type": "stream",
     "text": [
      "package 'dplyr' successfully unpacked and MD5 sums checked\n",
      "\n",
      "The downloaded binary packages are in\n",
      "\tC:\\Users\\asuar\\AppData\\Local\\Temp\\RtmpK8kQlq\\downloaded_packages\n"
     ]
    },
    {
     "name": "stderr",
     "output_type": "stream",
     "text": [
      "Installing package into 'C:/Users/asuar/AppData/Local/R/win-library/4.2'\n",
      "(as 'lib' is unspecified)\n",
      "\n"
     ]
    },
    {
     "name": "stdout",
     "output_type": "stream",
     "text": [
      "package 'tidyverse' successfully unpacked and MD5 sums checked\n",
      "\n",
      "The downloaded binary packages are in\n",
      "\tC:\\Users\\asuar\\AppData\\Local\\Temp\\RtmpK8kQlq\\downloaded_packages\n"
     ]
    },
    {
     "name": "stderr",
     "output_type": "stream",
     "text": [
      "Installing package into 'C:/Users/asuar/AppData/Local/R/win-library/4.2'\n",
      "(as 'lib' is unspecified)\n",
      "\n"
     ]
    },
    {
     "name": "stdout",
     "output_type": "stream",
     "text": [
      "package 'ggplot2' successfully unpacked and MD5 sums checked\n",
      "\n",
      "The downloaded binary packages are in\n",
      "\tC:\\Users\\asuar\\AppData\\Local\\Temp\\RtmpK8kQlq\\downloaded_packages\n"
     ]
    },
    {
     "name": "stderr",
     "output_type": "stream",
     "text": [
      "Installing package into 'C:/Users/asuar/AppData/Local/R/win-library/4.2'\n",
      "(as 'lib' is unspecified)\n",
      "\n"
     ]
    },
    {
     "name": "stdout",
     "output_type": "stream",
     "text": [
      "package 'stringr' successfully unpacked and MD5 sums checked\n",
      "\n",
      "The downloaded binary packages are in\n",
      "\tC:\\Users\\asuar\\AppData\\Local\\Temp\\RtmpK8kQlq\\downloaded_packages\n"
     ]
    }
   ],
   "source": [
    "install.packages('dplyr')\n",
    "install.packages('tidyverse')\n",
    "install.packages('ggplot2')\n",
    "install.packages(\"stringr\")\n"
   ]
  },
  {
   "cell_type": "code",
   "execution_count": 2,
   "id": "bb98c68c",
   "metadata": {},
   "outputs": [
    {
     "name": "stderr",
     "output_type": "stream",
     "text": [
      "\n",
      "Attaching package: 'dplyr'\n",
      "\n",
      "\n",
      "The following objects are masked from 'package:stats':\n",
      "\n",
      "    filter, lag\n",
      "\n",
      "\n",
      "The following objects are masked from 'package:base':\n",
      "\n",
      "    intersect, setdiff, setequal, union\n",
      "\n",
      "\n",
      "── \u001b[1mAttaching packages\u001b[22m ─────────────────────────────────────────────────────────────────────────────── tidyverse 1.3.2 ──\n",
      "\u001b[32m✔\u001b[39m \u001b[34mggplot2\u001b[39m 3.4.0     \u001b[32m✔\u001b[39m \u001b[34mpurrr  \u001b[39m 1.0.0\n",
      "\u001b[32m✔\u001b[39m \u001b[34mtibble \u001b[39m 3.1.8     \u001b[32m✔\u001b[39m \u001b[34mstringr\u001b[39m 1.5.0\n",
      "\u001b[32m✔\u001b[39m \u001b[34mtidyr  \u001b[39m 1.2.1     \u001b[32m✔\u001b[39m \u001b[34mforcats\u001b[39m 0.5.2\n",
      "\u001b[32m✔\u001b[39m \u001b[34mreadr  \u001b[39m 2.1.3     \n",
      "── \u001b[1mConflicts\u001b[22m ────────────────────────────────────────────────────────────────────────────────── tidyverse_conflicts() ──\n",
      "\u001b[31m✖\u001b[39m \u001b[34mdplyr\u001b[39m::\u001b[32mfilter()\u001b[39m masks \u001b[34mstats\u001b[39m::filter()\n",
      "\u001b[31m✖\u001b[39m \u001b[34mdplyr\u001b[39m::\u001b[32mlag()\u001b[39m    masks \u001b[34mstats\u001b[39m::lag()\n",
      "\n",
      "Attaching package: 'data.table'\n",
      "\n",
      "\n",
      "The following object is masked from 'package:purrr':\n",
      "\n",
      "    transpose\n",
      "\n",
      "\n",
      "The following objects are masked from 'package:dplyr':\n",
      "\n",
      "    between, first, last\n",
      "\n",
      "\n",
      "\n",
      "Attaching package: 'magrittr'\n",
      "\n",
      "\n",
      "The following object is masked from 'package:purrr':\n",
      "\n",
      "    set_names\n",
      "\n",
      "\n",
      "The following object is masked from 'package:tidyr':\n",
      "\n",
      "    extract\n",
      "\n",
      "\n"
     ]
    }
   ],
   "source": [
    "library(dplyr)\n",
    "library(tidyverse)\n",
    "library(ggplot2)\n",
    "library(data.table)\n",
    "library(magrittr)\n",
    "library(stringr)"
   ]
  },
  {
   "cell_type": "code",
   "execution_count": 3,
   "id": "7c2f9443",
   "metadata": {},
   "outputs": [],
   "source": [
    "daily_activity <- read.csv(\"dailyActivity_merged.csv\")\n",
    "sleep_day <- read.csv(\"sleepDay_merged.csv\")\n",
    "weight_Info <- read.csv(\"weightLogInfo_merged.csv\")\n",
    "hourly_Calories <- read.csv(\"hourlyCalories_merged.csv\")\n",
    "hourly_Intensities <- read.csv(\"hourlyIntensities_merged.csv\")\n",
    "hourly_Steps <- read.csv(\"hourlySteps_merged.csv\")"
   ]
  },
  {
   "cell_type": "code",
   "execution_count": 4,
   "id": "c4ccb20c",
   "metadata": {},
   "outputs": [],
   "source": [
    "hourly_Calories = hourly_Calories %>% select(-ActivityHour)"
   ]
  },
  {
   "cell_type": "code",
   "execution_count": 5,
   "id": "c11108ca",
   "metadata": {},
   "outputs": [],
   "source": [
    "hourly_df = hourly_Calories %>% inner_join(hourly_Intensities,by=\"Id\") "
   ]
  },
  {
   "cell_type": "code",
   "execution_count": 6,
   "id": "5fa449c7",
   "metadata": {},
   "outputs": [
    {
     "data": {
      "text/html": [
       "<table class=\"dataframe\">\n",
       "<caption>A data.frame: 6 × 5</caption>\n",
       "<thead>\n",
       "\t<tr><th></th><th scope=col>Id</th><th scope=col>Calories</th><th scope=col>ActivityHour</th><th scope=col>TotalIntensity</th><th scope=col>AverageIntensity</th></tr>\n",
       "\t<tr><th></th><th scope=col>&lt;dbl&gt;</th><th scope=col>&lt;int&gt;</th><th scope=col>&lt;chr&gt;</th><th scope=col>&lt;int&gt;</th><th scope=col>&lt;dbl&gt;</th></tr>\n",
       "</thead>\n",
       "<tbody>\n",
       "\t<tr><th scope=row>1</th><td>1503960366</td><td>81</td><td>4/12/2016 12:00:00 AM</td><td>20</td><td>0.333333</td></tr>\n",
       "\t<tr><th scope=row>2</th><td>1503960366</td><td>81</td><td>4/12/2016 1:00:00 AM </td><td> 8</td><td>0.133333</td></tr>\n",
       "\t<tr><th scope=row>3</th><td>1503960366</td><td>81</td><td>4/12/2016 2:00:00 AM </td><td> 7</td><td>0.116667</td></tr>\n",
       "\t<tr><th scope=row>4</th><td>1503960366</td><td>81</td><td>4/12/2016 3:00:00 AM </td><td> 0</td><td>0.000000</td></tr>\n",
       "\t<tr><th scope=row>5</th><td>1503960366</td><td>81</td><td>4/12/2016 4:00:00 AM </td><td> 0</td><td>0.000000</td></tr>\n",
       "\t<tr><th scope=row>6</th><td>1503960366</td><td>81</td><td>4/12/2016 5:00:00 AM </td><td> 0</td><td>0.000000</td></tr>\n",
       "</tbody>\n",
       "</table>\n"
      ],
      "text/latex": [
       "A data.frame: 6 × 5\n",
       "\\begin{tabular}{r|lllll}\n",
       "  & Id & Calories & ActivityHour & TotalIntensity & AverageIntensity\\\\\n",
       "  & <dbl> & <int> & <chr> & <int> & <dbl>\\\\\n",
       "\\hline\n",
       "\t1 & 1503960366 & 81 & 4/12/2016 12:00:00 AM & 20 & 0.333333\\\\\n",
       "\t2 & 1503960366 & 81 & 4/12/2016 1:00:00 AM  &  8 & 0.133333\\\\\n",
       "\t3 & 1503960366 & 81 & 4/12/2016 2:00:00 AM  &  7 & 0.116667\\\\\n",
       "\t4 & 1503960366 & 81 & 4/12/2016 3:00:00 AM  &  0 & 0.000000\\\\\n",
       "\t5 & 1503960366 & 81 & 4/12/2016 4:00:00 AM  &  0 & 0.000000\\\\\n",
       "\t6 & 1503960366 & 81 & 4/12/2016 5:00:00 AM  &  0 & 0.000000\\\\\n",
       "\\end{tabular}\n"
      ],
      "text/markdown": [
       "\n",
       "A data.frame: 6 × 5\n",
       "\n",
       "| <!--/--> | Id &lt;dbl&gt; | Calories &lt;int&gt; | ActivityHour &lt;chr&gt; | TotalIntensity &lt;int&gt; | AverageIntensity &lt;dbl&gt; |\n",
       "|---|---|---|---|---|---|\n",
       "| 1 | 1503960366 | 81 | 4/12/2016 12:00:00 AM | 20 | 0.333333 |\n",
       "| 2 | 1503960366 | 81 | 4/12/2016 1:00:00 AM  |  8 | 0.133333 |\n",
       "| 3 | 1503960366 | 81 | 4/12/2016 2:00:00 AM  |  7 | 0.116667 |\n",
       "| 4 | 1503960366 | 81 | 4/12/2016 3:00:00 AM  |  0 | 0.000000 |\n",
       "| 5 | 1503960366 | 81 | 4/12/2016 4:00:00 AM  |  0 | 0.000000 |\n",
       "| 6 | 1503960366 | 81 | 4/12/2016 5:00:00 AM  |  0 | 0.000000 |\n",
       "\n"
      ],
      "text/plain": [
       "  Id         Calories ActivityHour          TotalIntensity AverageIntensity\n",
       "1 1503960366 81       4/12/2016 12:00:00 AM 20             0.333333        \n",
       "2 1503960366 81       4/12/2016 1:00:00 AM   8             0.133333        \n",
       "3 1503960366 81       4/12/2016 2:00:00 AM   7             0.116667        \n",
       "4 1503960366 81       4/12/2016 3:00:00 AM   0             0.000000        \n",
       "5 1503960366 81       4/12/2016 4:00:00 AM   0             0.000000        \n",
       "6 1503960366 81       4/12/2016 5:00:00 AM   0             0.000000        "
      ]
     },
     "metadata": {},
     "output_type": "display_data"
    }
   ],
   "source": [
    "head(hourly_df)"
   ]
  },
  {
   "cell_type": "code",
   "execution_count": 7,
   "id": "c816b5fe",
   "metadata": {},
   "outputs": [
    {
     "data": {
      "text/html": [
       "33"
      ],
      "text/latex": [
       "33"
      ],
      "text/markdown": [
       "33"
      ],
      "text/plain": [
       "[1] 33"
      ]
     },
     "metadata": {},
     "output_type": "display_data"
    }
   ],
   "source": [
    "length(unique(hourly_df[[\"Id\"]]))"
   ]
  },
  {
   "cell_type": "code",
   "execution_count": 8,
   "id": "d23171f9",
   "metadata": {},
   "outputs": [
    {
     "data": {
      "text/html": [
       "<table class=\"dataframe\">\n",
       "<caption>A data.frame: 6 × 5</caption>\n",
       "<thead>\n",
       "\t<tr><th></th><th scope=col>Id</th><th scope=col>SleepDay</th><th scope=col>TotalSleepRecords</th><th scope=col>TotalMinutesAsleep</th><th scope=col>TotalTimeInBed</th></tr>\n",
       "\t<tr><th></th><th scope=col>&lt;dbl&gt;</th><th scope=col>&lt;chr&gt;</th><th scope=col>&lt;int&gt;</th><th scope=col>&lt;int&gt;</th><th scope=col>&lt;int&gt;</th></tr>\n",
       "</thead>\n",
       "<tbody>\n",
       "\t<tr><th scope=row>1</th><td>1503960366</td><td>4/12/2016 12:00:00 AM</td><td>1</td><td>327</td><td>346</td></tr>\n",
       "\t<tr><th scope=row>2</th><td>1503960366</td><td>4/13/2016 12:00:00 AM</td><td>2</td><td>384</td><td>407</td></tr>\n",
       "\t<tr><th scope=row>3</th><td>1503960366</td><td>4/15/2016 12:00:00 AM</td><td>1</td><td>412</td><td>442</td></tr>\n",
       "\t<tr><th scope=row>4</th><td>1503960366</td><td>4/16/2016 12:00:00 AM</td><td>2</td><td>340</td><td>367</td></tr>\n",
       "\t<tr><th scope=row>5</th><td>1503960366</td><td>4/17/2016 12:00:00 AM</td><td>1</td><td>700</td><td>712</td></tr>\n",
       "\t<tr><th scope=row>6</th><td>1503960366</td><td>4/19/2016 12:00:00 AM</td><td>1</td><td>304</td><td>320</td></tr>\n",
       "</tbody>\n",
       "</table>\n"
      ],
      "text/latex": [
       "A data.frame: 6 × 5\n",
       "\\begin{tabular}{r|lllll}\n",
       "  & Id & SleepDay & TotalSleepRecords & TotalMinutesAsleep & TotalTimeInBed\\\\\n",
       "  & <dbl> & <chr> & <int> & <int> & <int>\\\\\n",
       "\\hline\n",
       "\t1 & 1503960366 & 4/12/2016 12:00:00 AM & 1 & 327 & 346\\\\\n",
       "\t2 & 1503960366 & 4/13/2016 12:00:00 AM & 2 & 384 & 407\\\\\n",
       "\t3 & 1503960366 & 4/15/2016 12:00:00 AM & 1 & 412 & 442\\\\\n",
       "\t4 & 1503960366 & 4/16/2016 12:00:00 AM & 2 & 340 & 367\\\\\n",
       "\t5 & 1503960366 & 4/17/2016 12:00:00 AM & 1 & 700 & 712\\\\\n",
       "\t6 & 1503960366 & 4/19/2016 12:00:00 AM & 1 & 304 & 320\\\\\n",
       "\\end{tabular}\n"
      ],
      "text/markdown": [
       "\n",
       "A data.frame: 6 × 5\n",
       "\n",
       "| <!--/--> | Id &lt;dbl&gt; | SleepDay &lt;chr&gt; | TotalSleepRecords &lt;int&gt; | TotalMinutesAsleep &lt;int&gt; | TotalTimeInBed &lt;int&gt; |\n",
       "|---|---|---|---|---|---|\n",
       "| 1 | 1503960366 | 4/12/2016 12:00:00 AM | 1 | 327 | 346 |\n",
       "| 2 | 1503960366 | 4/13/2016 12:00:00 AM | 2 | 384 | 407 |\n",
       "| 3 | 1503960366 | 4/15/2016 12:00:00 AM | 1 | 412 | 442 |\n",
       "| 4 | 1503960366 | 4/16/2016 12:00:00 AM | 2 | 340 | 367 |\n",
       "| 5 | 1503960366 | 4/17/2016 12:00:00 AM | 1 | 700 | 712 |\n",
       "| 6 | 1503960366 | 4/19/2016 12:00:00 AM | 1 | 304 | 320 |\n",
       "\n"
      ],
      "text/plain": [
       "  Id         SleepDay              TotalSleepRecords TotalMinutesAsleep\n",
       "1 1503960366 4/12/2016 12:00:00 AM 1                 327               \n",
       "2 1503960366 4/13/2016 12:00:00 AM 2                 384               \n",
       "3 1503960366 4/15/2016 12:00:00 AM 1                 412               \n",
       "4 1503960366 4/16/2016 12:00:00 AM 2                 340               \n",
       "5 1503960366 4/17/2016 12:00:00 AM 1                 700               \n",
       "6 1503960366 4/19/2016 12:00:00 AM 1                 304               \n",
       "  TotalTimeInBed\n",
       "1 346           \n",
       "2 407           \n",
       "3 442           \n",
       "4 367           \n",
       "5 712           \n",
       "6 320           "
      ]
     },
     "metadata": {},
     "output_type": "display_data"
    }
   ],
   "source": [
    "head(sleep_day)"
   ]
  },
  {
   "cell_type": "code",
   "execution_count": 9,
   "id": "bcf29a54",
   "metadata": {},
   "outputs": [
    {
     "data": {
      "text/html": [
       "<table class=\"dataframe\">\n",
       "<caption>A data.frame: 6 × 8</caption>\n",
       "<thead>\n",
       "\t<tr><th></th><th scope=col>Id</th><th scope=col>Date</th><th scope=col>WeightKg</th><th scope=col>WeightPounds</th><th scope=col>Fat</th><th scope=col>BMI</th><th scope=col>IsManualReport</th><th scope=col>LogId</th></tr>\n",
       "\t<tr><th></th><th scope=col>&lt;dbl&gt;</th><th scope=col>&lt;chr&gt;</th><th scope=col>&lt;dbl&gt;</th><th scope=col>&lt;dbl&gt;</th><th scope=col>&lt;int&gt;</th><th scope=col>&lt;dbl&gt;</th><th scope=col>&lt;chr&gt;</th><th scope=col>&lt;dbl&gt;</th></tr>\n",
       "</thead>\n",
       "<tbody>\n",
       "\t<tr><th scope=row>1</th><td>1503960366</td><td>5/2/2016 11:59:59 PM </td><td> 52.6</td><td>115.9631</td><td>22</td><td>22.65</td><td>True </td><td>1.462234e+12</td></tr>\n",
       "\t<tr><th scope=row>2</th><td>1503960366</td><td>5/3/2016 11:59:59 PM </td><td> 52.6</td><td>115.9631</td><td>NA</td><td>22.65</td><td>True </td><td>1.462320e+12</td></tr>\n",
       "\t<tr><th scope=row>3</th><td>1927972279</td><td>4/13/2016 1:08:52 AM </td><td>133.5</td><td>294.3171</td><td>NA</td><td>47.54</td><td>False</td><td>1.460510e+12</td></tr>\n",
       "\t<tr><th scope=row>4</th><td>2873212765</td><td>4/21/2016 11:59:59 PM</td><td> 56.7</td><td>125.0021</td><td>NA</td><td>21.45</td><td>True </td><td>1.461283e+12</td></tr>\n",
       "\t<tr><th scope=row>5</th><td>2873212765</td><td>5/12/2016 11:59:59 PM</td><td> 57.3</td><td>126.3249</td><td>NA</td><td>21.69</td><td>True </td><td>1.463098e+12</td></tr>\n",
       "\t<tr><th scope=row>6</th><td>4319703577</td><td>4/17/2016 11:59:59 PM</td><td> 72.4</td><td>159.6147</td><td>25</td><td>27.45</td><td>True </td><td>1.460938e+12</td></tr>\n",
       "</tbody>\n",
       "</table>\n"
      ],
      "text/latex": [
       "A data.frame: 6 × 8\n",
       "\\begin{tabular}{r|llllllll}\n",
       "  & Id & Date & WeightKg & WeightPounds & Fat & BMI & IsManualReport & LogId\\\\\n",
       "  & <dbl> & <chr> & <dbl> & <dbl> & <int> & <dbl> & <chr> & <dbl>\\\\\n",
       "\\hline\n",
       "\t1 & 1503960366 & 5/2/2016 11:59:59 PM  &  52.6 & 115.9631 & 22 & 22.65 & True  & 1.462234e+12\\\\\n",
       "\t2 & 1503960366 & 5/3/2016 11:59:59 PM  &  52.6 & 115.9631 & NA & 22.65 & True  & 1.462320e+12\\\\\n",
       "\t3 & 1927972279 & 4/13/2016 1:08:52 AM  & 133.5 & 294.3171 & NA & 47.54 & False & 1.460510e+12\\\\\n",
       "\t4 & 2873212765 & 4/21/2016 11:59:59 PM &  56.7 & 125.0021 & NA & 21.45 & True  & 1.461283e+12\\\\\n",
       "\t5 & 2873212765 & 5/12/2016 11:59:59 PM &  57.3 & 126.3249 & NA & 21.69 & True  & 1.463098e+12\\\\\n",
       "\t6 & 4319703577 & 4/17/2016 11:59:59 PM &  72.4 & 159.6147 & 25 & 27.45 & True  & 1.460938e+12\\\\\n",
       "\\end{tabular}\n"
      ],
      "text/markdown": [
       "\n",
       "A data.frame: 6 × 8\n",
       "\n",
       "| <!--/--> | Id &lt;dbl&gt; | Date &lt;chr&gt; | WeightKg &lt;dbl&gt; | WeightPounds &lt;dbl&gt; | Fat &lt;int&gt; | BMI &lt;dbl&gt; | IsManualReport &lt;chr&gt; | LogId &lt;dbl&gt; |\n",
       "|---|---|---|---|---|---|---|---|---|\n",
       "| 1 | 1503960366 | 5/2/2016 11:59:59 PM  |  52.6 | 115.9631 | 22 | 22.65 | True  | 1.462234e+12 |\n",
       "| 2 | 1503960366 | 5/3/2016 11:59:59 PM  |  52.6 | 115.9631 | NA | 22.65 | True  | 1.462320e+12 |\n",
       "| 3 | 1927972279 | 4/13/2016 1:08:52 AM  | 133.5 | 294.3171 | NA | 47.54 | False | 1.460510e+12 |\n",
       "| 4 | 2873212765 | 4/21/2016 11:59:59 PM |  56.7 | 125.0021 | NA | 21.45 | True  | 1.461283e+12 |\n",
       "| 5 | 2873212765 | 5/12/2016 11:59:59 PM |  57.3 | 126.3249 | NA | 21.69 | True  | 1.463098e+12 |\n",
       "| 6 | 4319703577 | 4/17/2016 11:59:59 PM |  72.4 | 159.6147 | 25 | 27.45 | True  | 1.460938e+12 |\n",
       "\n"
      ],
      "text/plain": [
       "  Id         Date                  WeightKg WeightPounds Fat BMI  \n",
       "1 1503960366 5/2/2016 11:59:59 PM   52.6    115.9631     22  22.65\n",
       "2 1503960366 5/3/2016 11:59:59 PM   52.6    115.9631     NA  22.65\n",
       "3 1927972279 4/13/2016 1:08:52 AM  133.5    294.3171     NA  47.54\n",
       "4 2873212765 4/21/2016 11:59:59 PM  56.7    125.0021     NA  21.45\n",
       "5 2873212765 5/12/2016 11:59:59 PM  57.3    126.3249     NA  21.69\n",
       "6 4319703577 4/17/2016 11:59:59 PM  72.4    159.6147     25  27.45\n",
       "  IsManualReport LogId       \n",
       "1 True           1.462234e+12\n",
       "2 True           1.462320e+12\n",
       "3 False          1.460510e+12\n",
       "4 True           1.461283e+12\n",
       "5 True           1.463098e+12\n",
       "6 True           1.460938e+12"
      ]
     },
     "metadata": {},
     "output_type": "display_data"
    }
   ],
   "source": [
    "head(weight_Info)"
   ]
  },
  {
   "cell_type": "code",
   "execution_count": 10,
   "id": "10f88777",
   "metadata": {},
   "outputs": [
    {
     "data": {
      "text/html": [
       "<table class=\"dataframe\">\n",
       "<caption>A data.frame: 6 × 15</caption>\n",
       "<thead>\n",
       "\t<tr><th></th><th scope=col>Id</th><th scope=col>ActivityDate</th><th scope=col>TotalSteps</th><th scope=col>TotalDistance</th><th scope=col>TrackerDistance</th><th scope=col>LoggedActivitiesDistance</th><th scope=col>VeryActiveDistance</th><th scope=col>ModeratelyActiveDistance</th><th scope=col>LightActiveDistance</th><th scope=col>SedentaryActiveDistance</th><th scope=col>VeryActiveMinutes</th><th scope=col>FairlyActiveMinutes</th><th scope=col>LightlyActiveMinutes</th><th scope=col>SedentaryMinutes</th><th scope=col>Calories</th></tr>\n",
       "\t<tr><th></th><th scope=col>&lt;dbl&gt;</th><th scope=col>&lt;chr&gt;</th><th scope=col>&lt;int&gt;</th><th scope=col>&lt;dbl&gt;</th><th scope=col>&lt;dbl&gt;</th><th scope=col>&lt;dbl&gt;</th><th scope=col>&lt;dbl&gt;</th><th scope=col>&lt;dbl&gt;</th><th scope=col>&lt;dbl&gt;</th><th scope=col>&lt;dbl&gt;</th><th scope=col>&lt;int&gt;</th><th scope=col>&lt;int&gt;</th><th scope=col>&lt;int&gt;</th><th scope=col>&lt;int&gt;</th><th scope=col>&lt;int&gt;</th></tr>\n",
       "</thead>\n",
       "<tbody>\n",
       "\t<tr><th scope=row>1</th><td>1503960366</td><td>4/12/2016</td><td>13162</td><td>8.50</td><td>8.50</td><td>0</td><td>1.88</td><td>0.55</td><td>6.06</td><td>0</td><td>25</td><td>13</td><td>328</td><td> 728</td><td>1985</td></tr>\n",
       "\t<tr><th scope=row>2</th><td>1503960366</td><td>4/13/2016</td><td>10735</td><td>6.97</td><td>6.97</td><td>0</td><td>1.57</td><td>0.69</td><td>4.71</td><td>0</td><td>21</td><td>19</td><td>217</td><td> 776</td><td>1797</td></tr>\n",
       "\t<tr><th scope=row>3</th><td>1503960366</td><td>4/14/2016</td><td>10460</td><td>6.74</td><td>6.74</td><td>0</td><td>2.44</td><td>0.40</td><td>3.91</td><td>0</td><td>30</td><td>11</td><td>181</td><td>1218</td><td>1776</td></tr>\n",
       "\t<tr><th scope=row>4</th><td>1503960366</td><td>4/15/2016</td><td> 9762</td><td>6.28</td><td>6.28</td><td>0</td><td>2.14</td><td>1.26</td><td>2.83</td><td>0</td><td>29</td><td>34</td><td>209</td><td> 726</td><td>1745</td></tr>\n",
       "\t<tr><th scope=row>5</th><td>1503960366</td><td>4/16/2016</td><td>12669</td><td>8.16</td><td>8.16</td><td>0</td><td>2.71</td><td>0.41</td><td>5.04</td><td>0</td><td>36</td><td>10</td><td>221</td><td> 773</td><td>1863</td></tr>\n",
       "\t<tr><th scope=row>6</th><td>1503960366</td><td>4/17/2016</td><td> 9705</td><td>6.48</td><td>6.48</td><td>0</td><td>3.19</td><td>0.78</td><td>2.51</td><td>0</td><td>38</td><td>20</td><td>164</td><td> 539</td><td>1728</td></tr>\n",
       "</tbody>\n",
       "</table>\n"
      ],
      "text/latex": [
       "A data.frame: 6 × 15\n",
       "\\begin{tabular}{r|lllllllllllllll}\n",
       "  & Id & ActivityDate & TotalSteps & TotalDistance & TrackerDistance & LoggedActivitiesDistance & VeryActiveDistance & ModeratelyActiveDistance & LightActiveDistance & SedentaryActiveDistance & VeryActiveMinutes & FairlyActiveMinutes & LightlyActiveMinutes & SedentaryMinutes & Calories\\\\\n",
       "  & <dbl> & <chr> & <int> & <dbl> & <dbl> & <dbl> & <dbl> & <dbl> & <dbl> & <dbl> & <int> & <int> & <int> & <int> & <int>\\\\\n",
       "\\hline\n",
       "\t1 & 1503960366 & 4/12/2016 & 13162 & 8.50 & 8.50 & 0 & 1.88 & 0.55 & 6.06 & 0 & 25 & 13 & 328 &  728 & 1985\\\\\n",
       "\t2 & 1503960366 & 4/13/2016 & 10735 & 6.97 & 6.97 & 0 & 1.57 & 0.69 & 4.71 & 0 & 21 & 19 & 217 &  776 & 1797\\\\\n",
       "\t3 & 1503960366 & 4/14/2016 & 10460 & 6.74 & 6.74 & 0 & 2.44 & 0.40 & 3.91 & 0 & 30 & 11 & 181 & 1218 & 1776\\\\\n",
       "\t4 & 1503960366 & 4/15/2016 &  9762 & 6.28 & 6.28 & 0 & 2.14 & 1.26 & 2.83 & 0 & 29 & 34 & 209 &  726 & 1745\\\\\n",
       "\t5 & 1503960366 & 4/16/2016 & 12669 & 8.16 & 8.16 & 0 & 2.71 & 0.41 & 5.04 & 0 & 36 & 10 & 221 &  773 & 1863\\\\\n",
       "\t6 & 1503960366 & 4/17/2016 &  9705 & 6.48 & 6.48 & 0 & 3.19 & 0.78 & 2.51 & 0 & 38 & 20 & 164 &  539 & 1728\\\\\n",
       "\\end{tabular}\n"
      ],
      "text/markdown": [
       "\n",
       "A data.frame: 6 × 15\n",
       "\n",
       "| <!--/--> | Id &lt;dbl&gt; | ActivityDate &lt;chr&gt; | TotalSteps &lt;int&gt; | TotalDistance &lt;dbl&gt; | TrackerDistance &lt;dbl&gt; | LoggedActivitiesDistance &lt;dbl&gt; | VeryActiveDistance &lt;dbl&gt; | ModeratelyActiveDistance &lt;dbl&gt; | LightActiveDistance &lt;dbl&gt; | SedentaryActiveDistance &lt;dbl&gt; | VeryActiveMinutes &lt;int&gt; | FairlyActiveMinutes &lt;int&gt; | LightlyActiveMinutes &lt;int&gt; | SedentaryMinutes &lt;int&gt; | Calories &lt;int&gt; |\n",
       "|---|---|---|---|---|---|---|---|---|---|---|---|---|---|---|---|\n",
       "| 1 | 1503960366 | 4/12/2016 | 13162 | 8.50 | 8.50 | 0 | 1.88 | 0.55 | 6.06 | 0 | 25 | 13 | 328 |  728 | 1985 |\n",
       "| 2 | 1503960366 | 4/13/2016 | 10735 | 6.97 | 6.97 | 0 | 1.57 | 0.69 | 4.71 | 0 | 21 | 19 | 217 |  776 | 1797 |\n",
       "| 3 | 1503960366 | 4/14/2016 | 10460 | 6.74 | 6.74 | 0 | 2.44 | 0.40 | 3.91 | 0 | 30 | 11 | 181 | 1218 | 1776 |\n",
       "| 4 | 1503960366 | 4/15/2016 |  9762 | 6.28 | 6.28 | 0 | 2.14 | 1.26 | 2.83 | 0 | 29 | 34 | 209 |  726 | 1745 |\n",
       "| 5 | 1503960366 | 4/16/2016 | 12669 | 8.16 | 8.16 | 0 | 2.71 | 0.41 | 5.04 | 0 | 36 | 10 | 221 |  773 | 1863 |\n",
       "| 6 | 1503960366 | 4/17/2016 |  9705 | 6.48 | 6.48 | 0 | 3.19 | 0.78 | 2.51 | 0 | 38 | 20 | 164 |  539 | 1728 |\n",
       "\n"
      ],
      "text/plain": [
       "  Id         ActivityDate TotalSteps TotalDistance TrackerDistance\n",
       "1 1503960366 4/12/2016    13162      8.50          8.50           \n",
       "2 1503960366 4/13/2016    10735      6.97          6.97           \n",
       "3 1503960366 4/14/2016    10460      6.74          6.74           \n",
       "4 1503960366 4/15/2016     9762      6.28          6.28           \n",
       "5 1503960366 4/16/2016    12669      8.16          8.16           \n",
       "6 1503960366 4/17/2016     9705      6.48          6.48           \n",
       "  LoggedActivitiesDistance VeryActiveDistance ModeratelyActiveDistance\n",
       "1 0                        1.88               0.55                    \n",
       "2 0                        1.57               0.69                    \n",
       "3 0                        2.44               0.40                    \n",
       "4 0                        2.14               1.26                    \n",
       "5 0                        2.71               0.41                    \n",
       "6 0                        3.19               0.78                    \n",
       "  LightActiveDistance SedentaryActiveDistance VeryActiveMinutes\n",
       "1 6.06                0                       25               \n",
       "2 4.71                0                       21               \n",
       "3 3.91                0                       30               \n",
       "4 2.83                0                       29               \n",
       "5 5.04                0                       36               \n",
       "6 2.51                0                       38               \n",
       "  FairlyActiveMinutes LightlyActiveMinutes SedentaryMinutes Calories\n",
       "1 13                  328                   728             1985    \n",
       "2 19                  217                   776             1797    \n",
       "3 11                  181                  1218             1776    \n",
       "4 34                  209                   726             1745    \n",
       "5 10                  221                   773             1863    \n",
       "6 20                  164                   539             1728    "
      ]
     },
     "metadata": {},
     "output_type": "display_data"
    }
   ],
   "source": [
    "head(daily_activity)"
   ]
  },
  {
   "cell_type": "code",
   "execution_count": 11,
   "id": "969fa546",
   "metadata": {},
   "outputs": [
    {
     "data": {
      "text/html": [
       "<table class=\"dataframe\">\n",
       "<caption>A tibble: 6 × 2</caption>\n",
       "<thead>\n",
       "\t<tr><th scope=col>Id</th><th scope=col>average_steps</th></tr>\n",
       "\t<tr><th scope=col>&lt;dbl&gt;</th><th scope=col>&lt;dbl&gt;</th></tr>\n",
       "</thead>\n",
       "<tbody>\n",
       "\t<tr><td>1503960366</td><td>12116.742</td></tr>\n",
       "\t<tr><td>1624580081</td><td> 5743.903</td></tr>\n",
       "\t<tr><td>1644430081</td><td> 7282.967</td></tr>\n",
       "\t<tr><td>1844505072</td><td> 2580.065</td></tr>\n",
       "\t<tr><td>1927972279</td><td>  916.129</td></tr>\n",
       "\t<tr><td>2022484408</td><td>11370.645</td></tr>\n",
       "</tbody>\n",
       "</table>\n"
      ],
      "text/latex": [
       "A tibble: 6 × 2\n",
       "\\begin{tabular}{ll}\n",
       " Id & average\\_steps\\\\\n",
       " <dbl> & <dbl>\\\\\n",
       "\\hline\n",
       "\t 1503960366 & 12116.742\\\\\n",
       "\t 1624580081 &  5743.903\\\\\n",
       "\t 1644430081 &  7282.967\\\\\n",
       "\t 1844505072 &  2580.065\\\\\n",
       "\t 1927972279 &   916.129\\\\\n",
       "\t 2022484408 & 11370.645\\\\\n",
       "\\end{tabular}\n"
      ],
      "text/markdown": [
       "\n",
       "A tibble: 6 × 2\n",
       "\n",
       "| Id &lt;dbl&gt; | average_steps &lt;dbl&gt; |\n",
       "|---|---|\n",
       "| 1503960366 | 12116.742 |\n",
       "| 1624580081 |  5743.903 |\n",
       "| 1644430081 |  7282.967 |\n",
       "| 1844505072 |  2580.065 |\n",
       "| 1927972279 |   916.129 |\n",
       "| 2022484408 | 11370.645 |\n",
       "\n"
      ],
      "text/plain": [
       "  Id         average_steps\n",
       "1 1503960366 12116.742    \n",
       "2 1624580081  5743.903    \n",
       "3 1644430081  7282.967    \n",
       "4 1844505072  2580.065    \n",
       "5 1927972279   916.129    \n",
       "6 2022484408 11370.645    "
      ]
     },
     "metadata": {},
     "output_type": "display_data"
    }
   ],
   "source": [
    "totals_steps <- daily_activity %>% group_by(Id) %>% \n",
    "    summarise(average_steps = mean(TotalSteps))\n",
    "head(totals_steps)"
   ]
  },
  {
   "cell_type": "code",
   "execution_count": 12,
   "id": "2f8b091a",
   "metadata": {},
   "outputs": [],
   "source": [
    "totals_steps <- totals_steps[order(-totals_steps$average_steps), ]\n",
    "totals_steps$Id <- totals_steps$Id %>% as.character()\n",
    "totals_steps$Id<-factor(totals_steps$Id, levels = totals_steps$Id)"
   ]
  },
  {
   "cell_type": "code",
   "execution_count": 13,
   "id": "35ef8985",
   "metadata": {},
   "outputs": [
    {
     "data": {
      "image/png": "[encoded data removed]",
      "text/plain": [
       "plot without title"
      ]
     },
     "metadata": {
      "image/png": {
       "height": 420,
       "width": 420
      }
     },
     "output_type": "display_data"
    }
   ],
   "source": [
    "ggplot(data=totals_steps, aes(x=Id, y=average_steps)) + geom_bar(stat=\"identity\", fill=\"blue\") +\n",
    "labs(titles=\"Average Steps All Users\",x=\"Users\",y=\"Average Steps\") +\n",
    "theme(plot.title = element_text(hjust=0.5, size=20, face=\"bold\"), \n",
    "      axis.title.x = element_text(vjust=-1,size=14, face=\"bold\"),\n",
    "      axis.title.y = element_text(size=14, face=\"bold\"),\n",
    "      axis.text.x = element_text(vjust=0.5,face=\"bold\", size=10, angle=90),\n",
    "      axis.text.y = element_text(face=\"bold\", size=10))"
   ]
  },
  {
   "cell_type": "code",
   "execution_count": 14,
   "id": "abfb168c",
   "metadata": {},
   "outputs": [
    {
     "data": {
      "image/png": "[encoded data removed]",
      "text/plain": [
       "plot without title"
      ]
     },
     "metadata": {
      "image/png": {
       "height": 420,
       "width": 420
      }
     },
     "output_type": "display_data"
    }
   ],
   "source": [
    "ggplot(data=daily_activity, aes(x=TotalSteps, y=SedentaryMinutes)) + geom_point() +\n",
    "labs(titles=\"Sedentary Minutes vs. Total Steps\",x=\"Total Steps\",y=\"Sedentary Minutes\") +\n",
    "theme(plot.title = element_text(hjust=0.5, size=20, face=\"bold\"), \n",
    "      axis.title.x = element_text(size=14, face=\"bold\"),\n",
    "      axis.title.y = element_text(size=14, face=\"bold\"),\n",
    "      axis.text.x = element_text(face=\"bold\", size=10),\n",
    "      axis.text.y = element_text(face=\"bold\", size=10))"
   ]
  },
  {
   "cell_type": "code",
   "execution_count": 15,
   "id": "de0164cf",
   "metadata": {},
   "outputs": [],
   "source": [
    "combined_data <- merge(sleep_day, daily_activity, by=\"Id\")"
   ]
  },
  {
   "cell_type": "code",
   "execution_count": 16,
   "id": "275be705",
   "metadata": {},
   "outputs": [
    {
     "data": {
      "text/html": [
       "<table class=\"dataframe\">\n",
       "<caption>A data.frame: 6 × 19</caption>\n",
       "<thead>\n",
       "\t<tr><th></th><th scope=col>Id</th><th scope=col>SleepDay</th><th scope=col>TotalSleepRecords</th><th scope=col>TotalMinutesAsleep</th><th scope=col>TotalTimeInBed</th><th scope=col>ActivityDate</th><th scope=col>TotalSteps</th><th scope=col>TotalDistance</th><th scope=col>TrackerDistance</th><th scope=col>LoggedActivitiesDistance</th><th scope=col>VeryActiveDistance</th><th scope=col>ModeratelyActiveDistance</th><th scope=col>LightActiveDistance</th><th scope=col>SedentaryActiveDistance</th><th scope=col>VeryActiveMinutes</th><th scope=col>FairlyActiveMinutes</th><th scope=col>LightlyActiveMinutes</th><th scope=col>SedentaryMinutes</th><th scope=col>Calories</th></tr>\n",
       "\t<tr><th></th><th scope=col>&lt;dbl&gt;</th><th scope=col>&lt;chr&gt;</th><th scope=col>&lt;int&gt;</th><th scope=col>&lt;int&gt;</th><th scope=col>&lt;int&gt;</th><th scope=col>&lt;chr&gt;</th><th scope=col>&lt;int&gt;</th><th scope=col>&lt;dbl&gt;</th><th scope=col>&lt;dbl&gt;</th><th scope=col>&lt;dbl&gt;</th><th scope=col>&lt;dbl&gt;</th><th scope=col>&lt;dbl&gt;</th><th scope=col>&lt;dbl&gt;</th><th scope=col>&lt;dbl&gt;</th><th scope=col>&lt;int&gt;</th><th scope=col>&lt;int&gt;</th><th scope=col>&lt;int&gt;</th><th scope=col>&lt;int&gt;</th><th scope=col>&lt;int&gt;</th></tr>\n",
       "</thead>\n",
       "<tbody>\n",
       "\t<tr><th scope=row>1</th><td>1503960366</td><td>4/12/2016 12:00:00 AM</td><td>1</td><td>327</td><td>346</td><td>5/7/2016 </td><td>11992</td><td>7.71</td><td>7.71</td><td>0</td><td>2.46</td><td>2.12</td><td>3.13</td><td>0</td><td>37</td><td>46</td><td>175</td><td>833</td><td>1821</td></tr>\n",
       "\t<tr><th scope=row>2</th><td>1503960366</td><td>4/12/2016 12:00:00 AM</td><td>1</td><td>327</td><td>346</td><td>5/6/2016 </td><td>12159</td><td>8.03</td><td>8.03</td><td>0</td><td>1.97</td><td>0.25</td><td>5.81</td><td>0</td><td>24</td><td> 6</td><td>289</td><td>754</td><td>1896</td></tr>\n",
       "\t<tr><th scope=row>3</th><td>1503960366</td><td>4/12/2016 12:00:00 AM</td><td>1</td><td>327</td><td>346</td><td>5/1/2016 </td><td>10602</td><td>6.81</td><td>6.81</td><td>0</td><td>2.29</td><td>1.60</td><td>2.92</td><td>0</td><td>33</td><td>35</td><td>246</td><td>730</td><td>1820</td></tr>\n",
       "\t<tr><th scope=row>4</th><td>1503960366</td><td>4/12/2016 12:00:00 AM</td><td>1</td><td>327</td><td>346</td><td>4/30/2016</td><td>14673</td><td>9.25</td><td>9.25</td><td>0</td><td>3.56</td><td>1.42</td><td>4.27</td><td>0</td><td>52</td><td>34</td><td>217</td><td>712</td><td>1947</td></tr>\n",
       "\t<tr><th scope=row>5</th><td>1503960366</td><td>4/12/2016 12:00:00 AM</td><td>1</td><td>327</td><td>346</td><td>4/12/2016</td><td>13162</td><td>8.50</td><td>8.50</td><td>0</td><td>1.88</td><td>0.55</td><td>6.06</td><td>0</td><td>25</td><td>13</td><td>328</td><td>728</td><td>1985</td></tr>\n",
       "\t<tr><th scope=row>6</th><td>1503960366</td><td>4/12/2016 12:00:00 AM</td><td>1</td><td>327</td><td>346</td><td>4/13/2016</td><td>10735</td><td>6.97</td><td>6.97</td><td>0</td><td>1.57</td><td>0.69</td><td>4.71</td><td>0</td><td>21</td><td>19</td><td>217</td><td>776</td><td>1797</td></tr>\n",
       "</tbody>\n",
       "</table>\n"
      ],
      "text/latex": [
       "A data.frame: 6 × 19\n",
       "\\begin{tabular}{r|lllllllllllllllllll}\n",
       "  & Id & SleepDay & TotalSleepRecords & TotalMinutesAsleep & TotalTimeInBed & ActivityDate & TotalSteps & TotalDistance & TrackerDistance & LoggedActivitiesDistance & VeryActiveDistance & ModeratelyActiveDistance & LightActiveDistance & SedentaryActiveDistance & VeryActiveMinutes & FairlyActiveMinutes & LightlyActiveMinutes & SedentaryMinutes & Calories\\\\\n",
       "  & <dbl> & <chr> & <int> & <int> & <int> & <chr> & <int> & <dbl> & <dbl> & <dbl> & <dbl> & <dbl> & <dbl> & <dbl> & <int> & <int> & <int> & <int> & <int>\\\\\n",
       "\\hline\n",
       "\t1 & 1503960366 & 4/12/2016 12:00:00 AM & 1 & 327 & 346 & 5/7/2016  & 11992 & 7.71 & 7.71 & 0 & 2.46 & 2.12 & 3.13 & 0 & 37 & 46 & 175 & 833 & 1821\\\\\n",
       "\t2 & 1503960366 & 4/12/2016 12:00:00 AM & 1 & 327 & 346 & 5/6/2016  & 12159 & 8.03 & 8.03 & 0 & 1.97 & 0.25 & 5.81 & 0 & 24 &  6 & 289 & 754 & 1896\\\\\n",
       "\t3 & 1503960366 & 4/12/2016 12:00:00 AM & 1 & 327 & 346 & 5/1/2016  & 10602 & 6.81 & 6.81 & 0 & 2.29 & 1.60 & 2.92 & 0 & 33 & 35 & 246 & 730 & 1820\\\\\n",
       "\t4 & 1503960366 & 4/12/2016 12:00:00 AM & 1 & 327 & 346 & 4/30/2016 & 14673 & 9.25 & 9.25 & 0 & 3.56 & 1.42 & 4.27 & 0 & 52 & 34 & 217 & 712 & 1947\\\\\n",
       "\t5 & 1503960366 & 4/12/2016 12:00:00 AM & 1 & 327 & 346 & 4/12/2016 & 13162 & 8.50 & 8.50 & 0 & 1.88 & 0.55 & 6.06 & 0 & 25 & 13 & 328 & 728 & 1985\\\\\n",
       "\t6 & 1503960366 & 4/12/2016 12:00:00 AM & 1 & 327 & 346 & 4/13/2016 & 10735 & 6.97 & 6.97 & 0 & 1.57 & 0.69 & 4.71 & 0 & 21 & 19 & 217 & 776 & 1797\\\\\n",
       "\\end{tabular}\n"
      ],
      "text/markdown": [
       "\n",
       "A data.frame: 6 × 19\n",
       "\n",
       "| <!--/--> | Id &lt;dbl&gt; | SleepDay &lt;chr&gt; | TotalSleepRecords &lt;int&gt; | TotalMinutesAsleep &lt;int&gt; | TotalTimeInBed &lt;int&gt; | ActivityDate &lt;chr&gt; | TotalSteps &lt;int&gt; | TotalDistance &lt;dbl&gt; | TrackerDistance &lt;dbl&gt; | LoggedActivitiesDistance &lt;dbl&gt; | VeryActiveDistance &lt;dbl&gt; | ModeratelyActiveDistance &lt;dbl&gt; | LightActiveDistance &lt;dbl&gt; | SedentaryActiveDistance &lt;dbl&gt; | VeryActiveMinutes &lt;int&gt; | FairlyActiveMinutes &lt;int&gt; | LightlyActiveMinutes &lt;int&gt; | SedentaryMinutes &lt;int&gt; | Calories &lt;int&gt; |\n",
       "|---|---|---|---|---|---|---|---|---|---|---|---|---|---|---|---|---|---|---|---|\n",
       "| 1 | 1503960366 | 4/12/2016 12:00:00 AM | 1 | 327 | 346 | 5/7/2016  | 11992 | 7.71 | 7.71 | 0 | 2.46 | 2.12 | 3.13 | 0 | 37 | 46 | 175 | 833 | 1821 |\n",
       "| 2 | 1503960366 | 4/12/2016 12:00:00 AM | 1 | 327 | 346 | 5/6/2016  | 12159 | 8.03 | 8.03 | 0 | 1.97 | 0.25 | 5.81 | 0 | 24 |  6 | 289 | 754 | 1896 |\n",
       "| 3 | 1503960366 | 4/12/2016 12:00:00 AM | 1 | 327 | 346 | 5/1/2016  | 10602 | 6.81 | 6.81 | 0 | 2.29 | 1.60 | 2.92 | 0 | 33 | 35 | 246 | 730 | 1820 |\n",
       "| 4 | 1503960366 | 4/12/2016 12:00:00 AM | 1 | 327 | 346 | 4/30/2016 | 14673 | 9.25 | 9.25 | 0 | 3.56 | 1.42 | 4.27 | 0 | 52 | 34 | 217 | 712 | 1947 |\n",
       "| 5 | 1503960366 | 4/12/2016 12:00:00 AM | 1 | 327 | 346 | 4/12/2016 | 13162 | 8.50 | 8.50 | 0 | 1.88 | 0.55 | 6.06 | 0 | 25 | 13 | 328 | 728 | 1985 |\n",
       "| 6 | 1503960366 | 4/12/2016 12:00:00 AM | 1 | 327 | 346 | 4/13/2016 | 10735 | 6.97 | 6.97 | 0 | 1.57 | 0.69 | 4.71 | 0 | 21 | 19 | 217 | 776 | 1797 |\n",
       "\n"
      ],
      "text/plain": [
       "  Id         SleepDay              TotalSleepRecords TotalMinutesAsleep\n",
       "1 1503960366 4/12/2016 12:00:00 AM 1                 327               \n",
       "2 1503960366 4/12/2016 12:00:00 AM 1                 327               \n",
       "3 1503960366 4/12/2016 12:00:00 AM 1                 327               \n",
       "4 1503960366 4/12/2016 12:00:00 AM 1                 327               \n",
       "5 1503960366 4/12/2016 12:00:00 AM 1                 327               \n",
       "6 1503960366 4/12/2016 12:00:00 AM 1                 327               \n",
       "  TotalTimeInBed ActivityDate TotalSteps TotalDistance TrackerDistance\n",
       "1 346            5/7/2016     11992      7.71          7.71           \n",
       "2 346            5/6/2016     12159      8.03          8.03           \n",
       "3 346            5/1/2016     10602      6.81          6.81           \n",
       "4 346            4/30/2016    14673      9.25          9.25           \n",
       "5 346            4/12/2016    13162      8.50          8.50           \n",
       "6 346            4/13/2016    10735      6.97          6.97           \n",
       "  LoggedActivitiesDistance VeryActiveDistance ModeratelyActiveDistance\n",
       "1 0                        2.46               2.12                    \n",
       "2 0                        1.97               0.25                    \n",
       "3 0                        2.29               1.60                    \n",
       "4 0                        3.56               1.42                    \n",
       "5 0                        1.88               0.55                    \n",
       "6 0                        1.57               0.69                    \n",
       "  LightActiveDistance SedentaryActiveDistance VeryActiveMinutes\n",
       "1 3.13                0                       37               \n",
       "2 5.81                0                       24               \n",
       "3 2.92                0                       33               \n",
       "4 4.27                0                       52               \n",
       "5 6.06                0                       25               \n",
       "6 4.71                0                       21               \n",
       "  FairlyActiveMinutes LightlyActiveMinutes SedentaryMinutes Calories\n",
       "1 46                  175                  833              1821    \n",
       "2  6                  289                  754              1896    \n",
       "3 35                  246                  730              1820    \n",
       "4 34                  217                  712              1947    \n",
       "5 13                  328                  728              1985    \n",
       "6 19                  217                  776              1797    "
      ]
     },
     "metadata": {},
     "output_type": "display_data"
    }
   ],
   "source": [
    "head(combined_data)"
   ]
  },
  {
   "cell_type": "code",
   "execution_count": 17,
   "id": "21b6ed92",
   "metadata": {},
   "outputs": [
    {
     "data": {
      "text/html": [
       "<table class=\"dataframe\">\n",
       "<caption>A tibble: 6 × 5</caption>\n",
       "<thead>\n",
       "\t<tr><th scope=col>Id</th><th scope=col>total_VeryActiveMinutes</th><th scope=col>total_FairlyActiveMinutes</th><th scope=col>total_LightlyActiveMinutes</th><th scope=col>total_SedentaryMinutes</th></tr>\n",
       "\t<tr><th scope=col>&lt;dbl&gt;</th><th scope=col>&lt;int&gt;</th><th scope=col>&lt;int&gt;</th><th scope=col>&lt;int&gt;</th><th scope=col>&lt;int&gt;</th></tr>\n",
       "</thead>\n",
       "<tbody>\n",
       "\t<tr><td>1503960366</td><td>30000</td><td>14850</td><td>170450</td><td>657325</td></tr>\n",
       "\t<tr><td>1644430081</td><td> 1148</td><td> 2564</td><td> 21416</td><td>139424</td></tr>\n",
       "\t<tr><td>1844505072</td><td>   12</td><td>  120</td><td> 10737</td><td>112215</td></tr>\n",
       "\t<tr><td>1927972279</td><td>  205</td><td>  120</td><td>  5980</td><td>204200</td></tr>\n",
       "\t<tr><td>2026352035</td><td>   84</td><td>  224</td><td>222768</td><td>598416</td></tr>\n",
       "\t<tr><td>2320127002</td><td>   42</td><td>   80</td><td>  6144</td><td> 37823</td></tr>\n",
       "</tbody>\n",
       "</table>\n"
      ],
      "text/latex": [
       "A tibble: 6 × 5\n",
       "\\begin{tabular}{lllll}\n",
       " Id & total\\_VeryActiveMinutes & total\\_FairlyActiveMinutes & total\\_LightlyActiveMinutes & total\\_SedentaryMinutes\\\\\n",
       " <dbl> & <int> & <int> & <int> & <int>\\\\\n",
       "\\hline\n",
       "\t 1503960366 & 30000 & 14850 & 170450 & 657325\\\\\n",
       "\t 1644430081 &  1148 &  2564 &  21416 & 139424\\\\\n",
       "\t 1844505072 &    12 &   120 &  10737 & 112215\\\\\n",
       "\t 1927972279 &   205 &   120 &   5980 & 204200\\\\\n",
       "\t 2026352035 &    84 &   224 & 222768 & 598416\\\\\n",
       "\t 2320127002 &    42 &    80 &   6144 &  37823\\\\\n",
       "\\end{tabular}\n"
      ],
      "text/markdown": [
       "\n",
       "A tibble: 6 × 5\n",
       "\n",
       "| Id &lt;dbl&gt; | total_VeryActiveMinutes &lt;int&gt; | total_FairlyActiveMinutes &lt;int&gt; | total_LightlyActiveMinutes &lt;int&gt; | total_SedentaryMinutes &lt;int&gt; |\n",
       "|---|---|---|---|---|\n",
       "| 1503960366 | 30000 | 14850 | 170450 | 657325 |\n",
       "| 1644430081 |  1148 |  2564 |  21416 | 139424 |\n",
       "| 1844505072 |    12 |   120 |  10737 | 112215 |\n",
       "| 1927972279 |   205 |   120 |   5980 | 204200 |\n",
       "| 2026352035 |    84 |   224 | 222768 | 598416 |\n",
       "| 2320127002 |    42 |    80 |   6144 |  37823 |\n",
       "\n"
      ],
      "text/plain": [
       "  Id         total_VeryActiveMinutes total_FairlyActiveMinutes\n",
       "1 1503960366 30000                   14850                    \n",
       "2 1644430081  1148                    2564                    \n",
       "3 1844505072    12                     120                    \n",
       "4 1927972279   205                     120                    \n",
       "5 2026352035    84                     224                    \n",
       "6 2320127002    42                      80                    \n",
       "  total_LightlyActiveMinutes total_SedentaryMinutes\n",
       "1 170450                     657325                \n",
       "2  21416                     139424                \n",
       "3  10737                     112215                \n",
       "4   5980                     204200                \n",
       "5 222768                     598416                \n",
       "6   6144                      37823                "
      ]
     },
     "metadata": {},
     "output_type": "display_data"
    }
   ],
   "source": [
    "totals_Active <- combined_data %>% group_by(Id) %>% \n",
    "    summarise(total_VeryActiveMinutes = sum(VeryActiveMinutes), \n",
    "              total_FairlyActiveMinutes = sum(FairlyActiveMinutes),\n",
    "              total_LightlyActiveMinutes = sum(LightlyActiveMinutes),\n",
    "              total_SedentaryMinutes = sum(SedentaryMinutes))\n",
    "head(totals_Active)"
   ]
  },
  {
   "cell_type": "code",
   "execution_count": 18,
   "id": "17199619",
   "metadata": {},
   "outputs": [
    {
     "data": {
      "text/html": [
       "<table class=\"dataframe\">\n",
       "<caption>A data.frame: 6 × 4</caption>\n",
       "<thead>\n",
       "\t<tr><th></th><th scope=col>VeryActiveDistance</th><th scope=col>ModeratelyActiveDistance</th><th scope=col>LightActiveDistance</th><th scope=col>SedentaryActiveDistance</th></tr>\n",
       "\t<tr><th></th><th scope=col>&lt;dbl&gt;</th><th scope=col>&lt;dbl&gt;</th><th scope=col>&lt;dbl&gt;</th><th scope=col>&lt;dbl&gt;</th></tr>\n",
       "</thead>\n",
       "<tbody>\n",
       "\t<tr><th scope=row>1</th><td>2.46</td><td>2.12</td><td>3.13</td><td>0</td></tr>\n",
       "\t<tr><th scope=row>2</th><td>1.97</td><td>0.25</td><td>5.81</td><td>0</td></tr>\n",
       "\t<tr><th scope=row>3</th><td>2.29</td><td>1.60</td><td>2.92</td><td>0</td></tr>\n",
       "\t<tr><th scope=row>4</th><td>3.56</td><td>1.42</td><td>4.27</td><td>0</td></tr>\n",
       "\t<tr><th scope=row>5</th><td>1.88</td><td>0.55</td><td>6.06</td><td>0</td></tr>\n",
       "\t<tr><th scope=row>6</th><td>1.57</td><td>0.69</td><td>4.71</td><td>0</td></tr>\n",
       "</tbody>\n",
       "</table>\n"
      ],
      "text/latex": [
       "A data.frame: 6 × 4\n",
       "\\begin{tabular}{r|llll}\n",
       "  & VeryActiveDistance & ModeratelyActiveDistance & LightActiveDistance & SedentaryActiveDistance\\\\\n",
       "  & <dbl> & <dbl> & <dbl> & <dbl>\\\\\n",
       "\\hline\n",
       "\t1 & 2.46 & 2.12 & 3.13 & 0\\\\\n",
       "\t2 & 1.97 & 0.25 & 5.81 & 0\\\\\n",
       "\t3 & 2.29 & 1.60 & 2.92 & 0\\\\\n",
       "\t4 & 3.56 & 1.42 & 4.27 & 0\\\\\n",
       "\t5 & 1.88 & 0.55 & 6.06 & 0\\\\\n",
       "\t6 & 1.57 & 0.69 & 4.71 & 0\\\\\n",
       "\\end{tabular}\n"
      ],
      "text/markdown": [
       "\n",
       "A data.frame: 6 × 4\n",
       "\n",
       "| <!--/--> | VeryActiveDistance &lt;dbl&gt; | ModeratelyActiveDistance &lt;dbl&gt; | LightActiveDistance &lt;dbl&gt; | SedentaryActiveDistance &lt;dbl&gt; |\n",
       "|---|---|---|---|---|\n",
       "| 1 | 2.46 | 2.12 | 3.13 | 0 |\n",
       "| 2 | 1.97 | 0.25 | 5.81 | 0 |\n",
       "| 3 | 2.29 | 1.60 | 2.92 | 0 |\n",
       "| 4 | 3.56 | 1.42 | 4.27 | 0 |\n",
       "| 5 | 1.88 | 0.55 | 6.06 | 0 |\n",
       "| 6 | 1.57 | 0.69 | 4.71 | 0 |\n",
       "\n"
      ],
      "text/plain": [
       "  VeryActiveDistance ModeratelyActiveDistance LightActiveDistance\n",
       "1 2.46               2.12                     3.13               \n",
       "2 1.97               0.25                     5.81               \n",
       "3 2.29               1.60                     2.92               \n",
       "4 3.56               1.42                     4.27               \n",
       "5 1.88               0.55                     6.06               \n",
       "6 1.57               0.69                     4.71               \n",
       "  SedentaryActiveDistance\n",
       "1 0                      \n",
       "2 0                      \n",
       "3 0                      \n",
       "4 0                      \n",
       "5 0                      \n",
       "6 0                      "
      ]
     },
     "metadata": {},
     "output_type": "display_data"
    }
   ],
   "source": [
    "temp_distance_df <- combined_data %>% select(VeryActiveDistance, ModeratelyActiveDistance, LightActiveDistance, SedentaryActiveDistance)\n",
    "head(temp_distance_df)"
   ]
  },
  {
   "cell_type": "code",
   "execution_count": 19,
   "id": "820928ee",
   "metadata": {},
   "outputs": [
    {
     "data": {
      "text/html": [
       "<style>\n",
       ".list-inline {list-style: none; margin:0; padding: 0}\n",
       ".list-inline>li {display: inline-block}\n",
       ".list-inline>li:not(:last-child)::after {content: \"\\00b7\"; padding: 0 .5ex}\n",
       "</style>\n",
       "<ol class=list-inline><li>0</li><li>3.54</li><li>0.73</li><li>1.4</li></ol>\n"
      ],
      "text/latex": [
       "\\begin{enumerate*}\n",
       "\\item 0\n",
       "\\item 3.54\n",
       "\\item 0.73\n",
       "\\item 1.4\n",
       "\\end{enumerate*}\n"
      ],
      "text/markdown": [
       "1. 0\n",
       "2. 3.54\n",
       "3. 0.73\n",
       "4. 1.4\n",
       "\n",
       "\n"
      ],
      "text/plain": [
       "[1] 0.00 3.54 0.73 1.40"
      ]
     },
     "metadata": {},
     "output_type": "display_data"
    }
   ],
   "source": [
    "avg_very_distance = mean(temp_distance_df[[\"VeryActiveDistance\"]])\n",
    "avg_moderate_distance = mean(temp_distance_df[[\"ModeratelyActiveDistance\"]])\n",
    "avg_light_distance = mean(temp_distance_df[[\"LightActiveDistance\"]])\n",
    "avg_sedentary_distance = mean(temp_distance_df[[\"SedentaryActiveDistance\"]])\n",
    "avg_distances <- round(c(avg_sedentary_distance,avg_light_distance,avg_moderate_distance,avg_very_distance),2)\n",
    "\n",
    "avg_distances"
   ]
  },
  {
   "cell_type": "code",
   "execution_count": 20,
   "id": "976a0996",
   "metadata": {},
   "outputs": [
    {
     "data": {
      "text/html": [
       "<table class=\"dataframe\">\n",
       "<caption>A data.frame: 4 × 2</caption>\n",
       "<thead>\n",
       "\t<tr><th scope=col>categories_distance</th><th scope=col>avg_distances</th></tr>\n",
       "\t<tr><th scope=col>&lt;chr&gt;</th><th scope=col>&lt;dbl&gt;</th></tr>\n",
       "</thead>\n",
       "<tbody>\n",
       "\t<tr><td>Avg Sedentary Active Distance </td><td>0.00</td></tr>\n",
       "\t<tr><td>Avg Lightly Active Distance   </td><td>3.54</td></tr>\n",
       "\t<tr><td>Avg Moderately Active Distance</td><td>0.73</td></tr>\n",
       "\t<tr><td>Avg Very Active Hours         </td><td>1.40</td></tr>\n",
       "</tbody>\n",
       "</table>\n"
      ],
      "text/latex": [
       "A data.frame: 4 × 2\n",
       "\\begin{tabular}{ll}\n",
       " categories\\_distance & avg\\_distances\\\\\n",
       " <chr> & <dbl>\\\\\n",
       "\\hline\n",
       "\t Avg Sedentary Active Distance  & 0.00\\\\\n",
       "\t Avg Lightly Active Distance    & 3.54\\\\\n",
       "\t Avg Moderately Active Distance & 0.73\\\\\n",
       "\t Avg Very Active Hours          & 1.40\\\\\n",
       "\\end{tabular}\n"
      ],
      "text/markdown": [
       "\n",
       "A data.frame: 4 × 2\n",
       "\n",
       "| categories_distance &lt;chr&gt; | avg_distances &lt;dbl&gt; |\n",
       "|---|---|\n",
       "| Avg Sedentary Active Distance  | 0.00 |\n",
       "| Avg Lightly Active Distance    | 3.54 |\n",
       "| Avg Moderately Active Distance | 0.73 |\n",
       "| Avg Very Active Hours          | 1.40 |\n",
       "\n"
      ],
      "text/plain": [
       "  categories_distance            avg_distances\n",
       "1 Avg Sedentary Active Distance  0.00         \n",
       "2 Avg Lightly Active Distance    3.54         \n",
       "3 Avg Moderately Active Distance 0.73         \n",
       "4 Avg Very Active Hours          1.40         "
      ]
     },
     "metadata": {},
     "output_type": "display_data"
    }
   ],
   "source": [
    "categories_distance <- c('Avg Sedentary Active Distance', \n",
    "                  'Avg Lightly Active Distance',\n",
    "                 'Avg Moderately Active Distance',\n",
    "                 'Avg Very Active Hours')\n",
    "df_averages_distance <- data.frame(categories_distance, avg_distances)\n",
    "df_averages_distance"
   ]
  },
  {
   "cell_type": "code",
   "execution_count": 21,
   "id": "68a2de4f",
   "metadata": {},
   "outputs": [
    {
     "data": {
      "image/png": "[encoded data removed]",
      "text/plain": [
       "plot without title"
      ]
     },
     "metadata": {
      "image/png": {
       "height": 420,
       "width": 420
      }
     },
     "output_type": "display_data"
    }
   ],
   "source": [
    "ggplot(data=df_averages_distance, aes(x=categories_distance, y=avg_distances)) + geom_bar(stat=\"identity\", fill=\"blue\") +\n",
    "labs(titles=\"Average Active Distance of All Users\",x=\"Activity Categories\",y=\"Average Distance (mi)\") +\n",
    "theme(plot.title = element_text(hjust=0.5, size=20, face=\"bold\"), \n",
    "      axis.title.x = element_text(vjust=-1,size=14, face=\"bold\"),\n",
    "      axis.title.y = element_text(size=14, face=\"bold\"),\n",
    "      axis.text.x = element_text(vjust=0.5,face=\"bold\", size=10, angle=90),\n",
    "      axis.text.y = element_text(face=\"bold\", size=10))"
   ]
  },
  {
   "cell_type": "code",
   "execution_count": 22,
   "id": "685a6b60",
   "metadata": {},
   "outputs": [
    {
     "data": {
      "text/html": [
       "<table class=\"dataframe\">\n",
       "<caption>A tibble: 6 × 4</caption>\n",
       "<thead>\n",
       "\t<tr><th scope=col>total_VeryActiveMinutes</th><th scope=col>total_FairlyActiveMinutes</th><th scope=col>total_LightlyActiveMinutes</th><th scope=col>total_SedentaryMinutes</th></tr>\n",
       "\t<tr><th scope=col>&lt;int&gt;</th><th scope=col>&lt;int&gt;</th><th scope=col>&lt;int&gt;</th><th scope=col>&lt;int&gt;</th></tr>\n",
       "</thead>\n",
       "<tbody>\n",
       "\t<tr><td>30000</td><td>14850</td><td>170450</td><td>657325</td></tr>\n",
       "\t<tr><td> 1148</td><td> 2564</td><td> 21416</td><td>139424</td></tr>\n",
       "\t<tr><td>   12</td><td>  120</td><td> 10737</td><td>112215</td></tr>\n",
       "\t<tr><td>  205</td><td>  120</td><td>  5980</td><td>204200</td></tr>\n",
       "\t<tr><td>   84</td><td>  224</td><td>222768</td><td>598416</td></tr>\n",
       "\t<tr><td>   42</td><td>   80</td><td>  6144</td><td> 37823</td></tr>\n",
       "</tbody>\n",
       "</table>\n"
      ],
      "text/latex": [
       "A tibble: 6 × 4\n",
       "\\begin{tabular}{llll}\n",
       " total\\_VeryActiveMinutes & total\\_FairlyActiveMinutes & total\\_LightlyActiveMinutes & total\\_SedentaryMinutes\\\\\n",
       " <int> & <int> & <int> & <int>\\\\\n",
       "\\hline\n",
       "\t 30000 & 14850 & 170450 & 657325\\\\\n",
       "\t  1148 &  2564 &  21416 & 139424\\\\\n",
       "\t    12 &   120 &  10737 & 112215\\\\\n",
       "\t   205 &   120 &   5980 & 204200\\\\\n",
       "\t    84 &   224 & 222768 & 598416\\\\\n",
       "\t    42 &    80 &   6144 &  37823\\\\\n",
       "\\end{tabular}\n"
      ],
      "text/markdown": [
       "\n",
       "A tibble: 6 × 4\n",
       "\n",
       "| total_VeryActiveMinutes &lt;int&gt; | total_FairlyActiveMinutes &lt;int&gt; | total_LightlyActiveMinutes &lt;int&gt; | total_SedentaryMinutes &lt;int&gt; |\n",
       "|---|---|---|---|\n",
       "| 30000 | 14850 | 170450 | 657325 |\n",
       "|  1148 |  2564 |  21416 | 139424 |\n",
       "|    12 |   120 |  10737 | 112215 |\n",
       "|   205 |   120 |   5980 | 204200 |\n",
       "|    84 |   224 | 222768 | 598416 |\n",
       "|    42 |    80 |   6144 |  37823 |\n",
       "\n"
      ],
      "text/plain": [
       "  total_VeryActiveMinutes total_FairlyActiveMinutes total_LightlyActiveMinutes\n",
       "1 30000                   14850                     170450                    \n",
       "2  1148                    2564                      21416                    \n",
       "3    12                     120                      10737                    \n",
       "4   205                     120                       5980                    \n",
       "5    84                     224                     222768                    \n",
       "6    42                      80                       6144                    \n",
       "  total_SedentaryMinutes\n",
       "1 657325                \n",
       "2 139424                \n",
       "3 112215                \n",
       "4 204200                \n",
       "5 598416                \n",
       "6  37823                "
      ]
     },
     "metadata": {},
     "output_type": "display_data"
    }
   ],
   "source": [
    "temp_df <- totals_Active %>% select(total_VeryActiveMinutes, total_FairlyActiveMinutes, total_LightlyActiveMinutes, total_SedentaryMinutes)\n",
    "head(temp_df)"
   ]
  },
  {
   "cell_type": "code",
   "execution_count": 23,
   "id": "f0007828",
   "metadata": {},
   "outputs": [
    {
     "data": {
      "text/html": [
       "<style>\n",
       ".list-inline {list-style: none; margin:0; padding: 0}\n",
       ".list-inline>li {display: inline-block}\n",
       ".list-inline>li:not(:last-child)::after {content: \"\\00b7\"; padding: 0 .5ex}\n",
       "</style>\n",
       "<ol class=list-inline><li>6904.71</li><li>1727.11</li><li>149.92</li><li>207.12</li></ol>\n"
      ],
      "text/latex": [
       "\\begin{enumerate*}\n",
       "\\item 6904.71\n",
       "\\item 1727.11\n",
       "\\item 149.92\n",
       "\\item 207.12\n",
       "\\end{enumerate*}\n"
      ],
      "text/markdown": [
       "1. 6904.71\n",
       "2. 1727.11\n",
       "3. 149.92\n",
       "4. 207.12\n",
       "\n",
       "\n"
      ],
      "text/plain": [
       "[1] 6904.71 1727.11  149.92  207.12"
      ]
     },
     "metadata": {},
     "output_type": "display_data"
    }
   ],
   "source": [
    "avg_very_active = mean(temp_df[[\"total_VeryActiveMinutes\"]])\n",
    "avg_fairly_active = mean(temp_df[[\"total_FairlyActiveMinutes\"]])\n",
    "avg_Lightly_active = mean(temp_df[[\"total_LightlyActiveMinutes\"]])\n",
    "avg_Sedentary_active = mean(temp_df[[\"total_SedentaryMinutes\"]])\n",
    "avg_minutes <- c(avg_Sedentary_active,avg_Lightly_active,avg_fairly_active,avg_very_active)\n",
    "avg_hours <- round(avg_minutes/60,2)\n",
    "avg_hours"
   ]
  },
  {
   "cell_type": "code",
   "execution_count": 24,
   "id": "4c6e3ff3",
   "metadata": {},
   "outputs": [
    {
     "data": {
      "text/html": [
       "<table class=\"dataframe\">\n",
       "<caption>A data.frame: 4 × 2</caption>\n",
       "<thead>\n",
       "\t<tr><th scope=col>categories</th><th scope=col>avg_hours</th></tr>\n",
       "\t<tr><th scope=col>&lt;chr&gt;</th><th scope=col>&lt;dbl&gt;</th></tr>\n",
       "</thead>\n",
       "<tbody>\n",
       "\t<tr><td>Avg Sedentary Hours     </td><td>6904.71</td></tr>\n",
       "\t<tr><td>Avg Lightly Active Hours</td><td>1727.11</td></tr>\n",
       "\t<tr><td>Avg Fairly Active Hours </td><td> 149.92</td></tr>\n",
       "\t<tr><td>Avg Very Active Hours   </td><td> 207.12</td></tr>\n",
       "</tbody>\n",
       "</table>\n"
      ],
      "text/latex": [
       "A data.frame: 4 × 2\n",
       "\\begin{tabular}{ll}\n",
       " categories & avg\\_hours\\\\\n",
       " <chr> & <dbl>\\\\\n",
       "\\hline\n",
       "\t Avg Sedentary Hours      & 6904.71\\\\\n",
       "\t Avg Lightly Active Hours & 1727.11\\\\\n",
       "\t Avg Fairly Active Hours  &  149.92\\\\\n",
       "\t Avg Very Active Hours    &  207.12\\\\\n",
       "\\end{tabular}\n"
      ],
      "text/markdown": [
       "\n",
       "A data.frame: 4 × 2\n",
       "\n",
       "| categories &lt;chr&gt; | avg_hours &lt;dbl&gt; |\n",
       "|---|---|\n",
       "| Avg Sedentary Hours      | 6904.71 |\n",
       "| Avg Lightly Active Hours | 1727.11 |\n",
       "| Avg Fairly Active Hours  |  149.92 |\n",
       "| Avg Very Active Hours    |  207.12 |\n",
       "\n"
      ],
      "text/plain": [
       "  categories               avg_hours\n",
       "1 Avg Sedentary Hours      6904.71  \n",
       "2 Avg Lightly Active Hours 1727.11  \n",
       "3 Avg Fairly Active Hours   149.92  \n",
       "4 Avg Very Active Hours     207.12  "
      ]
     },
     "metadata": {},
     "output_type": "display_data"
    }
   ],
   "source": [
    "categories <- c('Avg Sedentary Hours', \n",
    "                  'Avg Lightly Active Hours',\n",
    "                 'Avg Fairly Active Hours',\n",
    "                 'Avg Very Active Hours')\n",
    "df_averages <- data.frame(categories, avg_hours)\n",
    "df_averages"
   ]
  },
  {
   "cell_type": "code",
   "execution_count": 25,
   "id": "e53e96e5",
   "metadata": {},
   "outputs": [
    {
     "data": {
      "image/png": "[encoded data removed]",
      "text/plain": [
       "plot without title"
      ]
     },
     "metadata": {
      "image/png": {
       "height": 420,
       "width": 420
      }
     },
     "output_type": "display_data"
    }
   ],
   "source": [
    "ggplot(data=df_averages, aes(x=categories, y=avg_hours)) + geom_bar(stat=\"identity\", fill=\"blue\") +\n",
    "labs(titles=\"Average Active Hours of All Users\",x=\"Activity Categories\",y=\"Average Hours\") +\n",
    "theme(plot.title = element_text(hjust=0.5, size=20, face=\"bold\"), \n",
    "      axis.title.x = element_text(vjust=-1,size=14, face=\"bold\"),\n",
    "      axis.title.y = element_text(size=14, face=\"bold\"),\n",
    "      axis.text.x = element_text(face=\"bold\", size=10, angle=90),\n",
    "      axis.text.y = element_text(face=\"bold\", size=10))"
   ]
  },
  {
   "cell_type": "code",
   "execution_count": 26,
   "id": "57d70199",
   "metadata": {},
   "outputs": [],
   "source": [
    "totals_VeryActive <- combined_data %>% group_by(Id) %>% \n",
    "    summarise(total_VeryActiveHours = round(sum(VeryActiveMinutes)/60,2))\n"
   ]
  },
  {
   "cell_type": "code",
   "execution_count": 27,
   "id": "4599bcc3",
   "metadata": {},
   "outputs": [
    {
     "data": {
      "text/html": [
       "<table class=\"dataframe\">\n",
       "<caption>A tibble: 6 × 2</caption>\n",
       "<thead>\n",
       "\t<tr><th scope=col>Id</th><th scope=col>total_VeryActiveHours</th></tr>\n",
       "\t<tr><th scope=col>&lt;fct&gt;</th><th scope=col>&lt;dbl&gt;</th></tr>\n",
       "</thead>\n",
       "<tbody>\n",
       "\t<tr><td>5577150313</td><td>1135.33</td></tr>\n",
       "\t<tr><td>8378563200</td><td> 970.13</td></tr>\n",
       "\t<tr><td>7086361926</td><td> 528.00</td></tr>\n",
       "\t<tr><td>1503960366</td><td> 500.00</td></tr>\n",
       "\t<tr><td>5553957443</td><td> 375.10</td></tr>\n",
       "\t<tr><td>6962181067</td><td> 365.28</td></tr>\n",
       "</tbody>\n",
       "</table>\n"
      ],
      "text/latex": [
       "A tibble: 6 × 2\n",
       "\\begin{tabular}{ll}\n",
       " Id & total\\_VeryActiveHours\\\\\n",
       " <fct> & <dbl>\\\\\n",
       "\\hline\n",
       "\t 5577150313 & 1135.33\\\\\n",
       "\t 8378563200 &  970.13\\\\\n",
       "\t 7086361926 &  528.00\\\\\n",
       "\t 1503960366 &  500.00\\\\\n",
       "\t 5553957443 &  375.10\\\\\n",
       "\t 6962181067 &  365.28\\\\\n",
       "\\end{tabular}\n"
      ],
      "text/markdown": [
       "\n",
       "A tibble: 6 × 2\n",
       "\n",
       "| Id &lt;fct&gt; | total_VeryActiveHours &lt;dbl&gt; |\n",
       "|---|---|\n",
       "| 5577150313 | 1135.33 |\n",
       "| 8378563200 |  970.13 |\n",
       "| 7086361926 |  528.00 |\n",
       "| 1503960366 |  500.00 |\n",
       "| 5553957443 |  375.10 |\n",
       "| 6962181067 |  365.28 |\n",
       "\n"
      ],
      "text/plain": [
       "  Id         total_VeryActiveHours\n",
       "1 5577150313 1135.33              \n",
       "2 8378563200  970.13              \n",
       "3 7086361926  528.00              \n",
       "4 1503960366  500.00              \n",
       "5 5553957443  375.10              \n",
       "6 6962181067  365.28              "
      ]
     },
     "metadata": {},
     "output_type": "display_data"
    }
   ],
   "source": [
    "totals_VeryActive <- totals_VeryActive[order(-totals_VeryActive$total_VeryActiveHours), ]\n",
    "totals_VeryActive$Id<-factor(totals_VeryActive$Id, levels = totals_VeryActive$Id)\n",
    "head(totals_VeryActive)"
   ]
  },
  {
   "cell_type": "code",
   "execution_count": 28,
   "id": "309ab7fb",
   "metadata": {},
   "outputs": [
    {
     "data": {
      "text/html": [
       "<table class=\"dataframe\">\n",
       "<caption>A tibble: 6 × 2</caption>\n",
       "<thead>\n",
       "\t<tr><th scope=col>Id</th><th scope=col>total_FairlyActiveHours</th></tr>\n",
       "\t<tr><th scope=col>&lt;fct&gt;</th><th scope=col>&lt;dbl&gt;</th></tr>\n",
       "</thead>\n",
       "<tbody>\n",
       "\t<tr><td>3977333714</td><td>857.73</td></tr>\n",
       "\t<tr><td>5577150313</td><td>387.83</td></tr>\n",
       "\t<tr><td>4702921684</td><td>376.60</td></tr>\n",
       "\t<tr><td>7086361926</td><td>314.40</td></tr>\n",
       "\t<tr><td>6962181067</td><td>296.57</td></tr>\n",
       "\t<tr><td>4388161847</td><td>252.40</td></tr>\n",
       "</tbody>\n",
       "</table>\n"
      ],
      "text/latex": [
       "A tibble: 6 × 2\n",
       "\\begin{tabular}{ll}\n",
       " Id & total\\_FairlyActiveHours\\\\\n",
       " <fct> & <dbl>\\\\\n",
       "\\hline\n",
       "\t 3977333714 & 857.73\\\\\n",
       "\t 5577150313 & 387.83\\\\\n",
       "\t 4702921684 & 376.60\\\\\n",
       "\t 7086361926 & 314.40\\\\\n",
       "\t 6962181067 & 296.57\\\\\n",
       "\t 4388161847 & 252.40\\\\\n",
       "\\end{tabular}\n"
      ],
      "text/markdown": [
       "\n",
       "A tibble: 6 × 2\n",
       "\n",
       "| Id &lt;fct&gt; | total_FairlyActiveHours &lt;dbl&gt; |\n",
       "|---|---|\n",
       "| 3977333714 | 857.73 |\n",
       "| 5577150313 | 387.83 |\n",
       "| 4702921684 | 376.60 |\n",
       "| 7086361926 | 314.40 |\n",
       "| 6962181067 | 296.57 |\n",
       "| 4388161847 | 252.40 |\n",
       "\n"
      ],
      "text/plain": [
       "  Id         total_FairlyActiveHours\n",
       "1 3977333714 857.73                 \n",
       "2 5577150313 387.83                 \n",
       "3 4702921684 376.60                 \n",
       "4 7086361926 314.40                 \n",
       "5 6962181067 296.57                 \n",
       "6 4388161847 252.40                 "
      ]
     },
     "metadata": {},
     "output_type": "display_data"
    }
   ],
   "source": [
    "totals_FairlyActive <- combined_data %>% group_by(Id) %>% \n",
    "    summarise(total_FairlyActiveHours = round(sum(FairlyActiveMinutes)/60,2))\n",
    "totals_FairlyActive <- totals_FairlyActive[order(-totals_FairlyActive$total_FairlyActiveHours), ]\n",
    "totals_FairlyActive$Id<-factor(totals_FairlyActive$Id, levels = totals_FairlyActive$Id)\n",
    "head(totals_FairlyActive)"
   ]
  },
  {
   "cell_type": "code",
   "execution_count": 29,
   "id": "03ad0220",
   "metadata": {},
   "outputs": [
    {
     "data": {
      "text/html": [
       "<table class=\"dataframe\">\n",
       "<caption>A tibble: 6 × 2</caption>\n",
       "<thead>\n",
       "\t<tr><th scope=col>Id</th><th scope=col>total_LightlyActiveHours</th></tr>\n",
       "\t<tr><th scope=col>&lt;fct&gt;</th><th scope=col>&lt;dbl&gt;</th></tr>\n",
       "</thead>\n",
       "<tbody>\n",
       "\t<tr><td>6962181067</td><td>3937.00</td></tr>\n",
       "\t<tr><td>2026352035</td><td>3712.80</td></tr>\n",
       "\t<tr><td>4702921684</td><td>3435.60</td></tr>\n",
       "\t<tr><td>5553957443</td><td>3302.53</td></tr>\n",
       "\t<tr><td>4319703577</td><td>3073.20</td></tr>\n",
       "\t<tr><td>4445114986</td><td>3024.93</td></tr>\n",
       "</tbody>\n",
       "</table>\n"
      ],
      "text/latex": [
       "A tibble: 6 × 2\n",
       "\\begin{tabular}{ll}\n",
       " Id & total\\_LightlyActiveHours\\\\\n",
       " <fct> & <dbl>\\\\\n",
       "\\hline\n",
       "\t 6962181067 & 3937.00\\\\\n",
       "\t 2026352035 & 3712.80\\\\\n",
       "\t 4702921684 & 3435.60\\\\\n",
       "\t 5553957443 & 3302.53\\\\\n",
       "\t 4319703577 & 3073.20\\\\\n",
       "\t 4445114986 & 3024.93\\\\\n",
       "\\end{tabular}\n"
      ],
      "text/markdown": [
       "\n",
       "A tibble: 6 × 2\n",
       "\n",
       "| Id &lt;fct&gt; | total_LightlyActiveHours &lt;dbl&gt; |\n",
       "|---|---|\n",
       "| 6962181067 | 3937.00 |\n",
       "| 2026352035 | 3712.80 |\n",
       "| 4702921684 | 3435.60 |\n",
       "| 5553957443 | 3302.53 |\n",
       "| 4319703577 | 3073.20 |\n",
       "| 4445114986 | 3024.93 |\n",
       "\n"
      ],
      "text/plain": [
       "  Id         total_LightlyActiveHours\n",
       "1 6962181067 3937.00                 \n",
       "2 2026352035 3712.80                 \n",
       "3 4702921684 3435.60                 \n",
       "4 5553957443 3302.53                 \n",
       "5 4319703577 3073.20                 \n",
       "6 4445114986 3024.93                 "
      ]
     },
     "metadata": {},
     "output_type": "display_data"
    }
   ],
   "source": [
    "totals_LightlyActive <- combined_data %>% group_by(Id) %>% \n",
    "    summarise(total_LightlyActiveHours = round(sum(LightlyActiveMinutes)/60,2))\n",
    "totals_LightlyActive <- totals_LightlyActive[order(-totals_LightlyActive$total_LightlyActiveHours), ]\n",
    "totals_LightlyActive$Id<-factor(totals_LightlyActive$Id, levels = totals_LightlyActive$Id)\n",
    "head(totals_LightlyActive)"
   ]
  },
  {
   "cell_type": "code",
   "execution_count": 30,
   "id": "70519d8b",
   "metadata": {},
   "outputs": [],
   "source": [
    "totals_Sedentary <- combined_data %>% group_by(Id) %>% \n",
    "    summarise(total_SedentaryHours = round(sum(SedentaryMinutes)/60,2))"
   ]
  },
  {
   "cell_type": "code",
   "execution_count": 31,
   "id": "1237afcc",
   "metadata": {
    "scrolled": true
   },
   "outputs": [
    {
     "data": {
      "text/html": [
       "<table class=\"dataframe\">\n",
       "<caption>A tibble: 6 × 2</caption>\n",
       "<thead>\n",
       "\t<tr><th scope=col>Id</th><th scope=col>total_SedentaryHours</th></tr>\n",
       "\t<tr><th scope=col>&lt;fct&gt;</th><th scope=col>&lt;dbl&gt;</th></tr>\n",
       "</thead>\n",
       "<tbody>\n",
       "\t<tr><td>4445114986</td><td>12005.93</td></tr>\n",
       "\t<tr><td>8378563200</td><td>11840.00</td></tr>\n",
       "\t<tr><td>4702921684</td><td>11087.53</td></tr>\n",
       "\t<tr><td>1503960366</td><td>10955.42</td></tr>\n",
       "\t<tr><td>5553957443</td><td>10704.82</td></tr>\n",
       "\t<tr><td>6962181067</td><td>10608.20</td></tr>\n",
       "</tbody>\n",
       "</table>\n"
      ],
      "text/latex": [
       "A tibble: 6 × 2\n",
       "\\begin{tabular}{ll}\n",
       " Id & total\\_SedentaryHours\\\\\n",
       " <fct> & <dbl>\\\\\n",
       "\\hline\n",
       "\t 4445114986 & 12005.93\\\\\n",
       "\t 8378563200 & 11840.00\\\\\n",
       "\t 4702921684 & 11087.53\\\\\n",
       "\t 1503960366 & 10955.42\\\\\n",
       "\t 5553957443 & 10704.82\\\\\n",
       "\t 6962181067 & 10608.20\\\\\n",
       "\\end{tabular}\n"
      ],
      "text/markdown": [
       "\n",
       "A tibble: 6 × 2\n",
       "\n",
       "| Id &lt;fct&gt; | total_SedentaryHours &lt;dbl&gt; |\n",
       "|---|---|\n",
       "| 4445114986 | 12005.93 |\n",
       "| 8378563200 | 11840.00 |\n",
       "| 4702921684 | 11087.53 |\n",
       "| 1503960366 | 10955.42 |\n",
       "| 5553957443 | 10704.82 |\n",
       "| 6962181067 | 10608.20 |\n",
       "\n"
      ],
      "text/plain": [
       "  Id         total_SedentaryHours\n",
       "1 4445114986 12005.93            \n",
       "2 8378563200 11840.00            \n",
       "3 4702921684 11087.53            \n",
       "4 1503960366 10955.42            \n",
       "5 5553957443 10704.82            \n",
       "6 6962181067 10608.20            "
      ]
     },
     "metadata": {},
     "output_type": "display_data"
    }
   ],
   "source": [
    "totals_Sedentary <- totals_Sedentary[order(-totals_Sedentary$total_SedentaryHours), ]\n",
    "totals_Sedentary$Id<-factor(totals_Sedentary$Id, levels = totals_Sedentary$Id)\n",
    "head(totals_Sedentary)"
   ]
  },
  {
   "cell_type": "code",
   "execution_count": 32,
   "id": "c92f185a",
   "metadata": {},
   "outputs": [
    {
     "data": {
      "image/png": "[encoded data removed]",
      "text/plain": [
       "plot without title"
      ]
     },
     "metadata": {
      "image/png": {
       "height": 420,
       "width": 420
      }
     },
     "output_type": "display_data"
    }
   ],
   "source": [
    "ggplot(data=totals_Sedentary, aes(x=Id, y=total_SedentaryHours)) + geom_bar(stat=\"identity\", fill=\"blue\") +\n",
    "labs(titles=\"Sedentary Hours per User\",x=\"Users\",y=\"Total Hours Sedentary\") +\n",
    "theme(plot.title = element_text(hjust=0.5, size=20, face=\"bold\"), \n",
    "      axis.title.x = element_text(size=14, face=\"bold\"),\n",
    "      axis.title.y = element_text(size=14, face=\"bold\"),\n",
    "      axis.text.x = element_text(face=\"bold\", size=10, angle=90),\n",
    "      axis.text.y = element_text(face=\"bold\", size=10))"
   ]
  },
  {
   "cell_type": "code",
   "execution_count": 33,
   "id": "6892f1b1",
   "metadata": {},
   "outputs": [
    {
     "data": {
      "image/png": "[encoded data removed]",
      "text/plain": [
       "plot without title"
      ]
     },
     "metadata": {
      "image/png": {
       "height": 420,
       "width": 420
      }
     },
     "output_type": "display_data"
    }
   ],
   "source": [
    "ggplot(data=totals_LightlyActive, aes(x=Id, y=total_LightlyActiveHours)) + geom_bar(stat=\"identity\", fill=\"blue\") +\n",
    "labs(titles=\"Lightly Active Hours per User\",x=\"Users\",y=\"Total Hours Lightly Active\") +\n",
    "theme(plot.title = element_text(hjust=0.5, size=20, face=\"bold\"), \n",
    "      axis.title.x = element_text(size=14, face=\"bold\"),\n",
    "      axis.title.y = element_text(size=14, face=\"bold\"),\n",
    "      axis.text.x = element_text(face=\"bold\", size=10, angle=90),\n",
    "      axis.text.y = element_text(face=\"bold\", size=10))"
   ]
  },
  {
   "cell_type": "code",
   "execution_count": 34,
   "id": "e15b6c4d",
   "metadata": {},
   "outputs": [
    {
     "data": {
      "image/png": "[encoded data removed]",
      "text/plain": [
       "plot without title"
      ]
     },
     "metadata": {
      "image/png": {
       "height": 420,
       "width": 420
      }
     },
     "output_type": "display_data"
    }
   ],
   "source": [
    "ggplot(data=totals_FairlyActive, aes(x=Id, y=total_FairlyActiveHours)) + geom_bar(stat=\"identity\", fill=\"blue\") +\n",
    "labs(titles=\"Fairly Active Hours per User\",x=\"Users\",y=\"Total Hours Fairly Active\") +\n",
    "theme(plot.title = element_text(hjust=0.5, size=20, face=\"bold\"), \n",
    "      axis.title.x = element_text(size=14, face=\"bold\"),\n",
    "      axis.title.y = element_text(size=14, face=\"bold\"),\n",
    "      axis.text.x = element_text(face=\"bold\", size=10, angle=90),\n",
    "      axis.text.y = element_text(face=\"bold\", size=10))"
   ]
  },
  {
   "cell_type": "code",
   "execution_count": 35,
   "id": "c645cd75",
   "metadata": {},
   "outputs": [
    {
     "data": {
      "image/png": "[encoded data removed]",
      "text/plain": [
       "plot without title"
      ]
     },
     "metadata": {
      "image/png": {
       "height": 420,
       "width": 420
      }
     },
     "output_type": "display_data"
    }
   ],
   "source": [
    "ggplot(data=totals_VeryActive, aes(x=Id, y=total_VeryActiveHours)) + geom_bar(stat=\"identity\", fill=\"blue\") +\n",
    "labs(titles=\"Very Active Hours per User\",x=\"Users\",y=\"Total Hours Very Active\") +\n",
    "theme(plot.title = element_text(hjust=0.5, size=20, face=\"bold\"), \n",
    "      axis.title.x = element_text(size=14, face=\"bold\"),\n",
    "      axis.title.y = element_text(size=14, face=\"bold\"),\n",
    "      axis.text.x = element_text(face=\"bold\", size=10, angle=90),\n",
    "      axis.text.y = element_text(face=\"bold\", size=10))"
   ]
  },
  {
   "cell_type": "code",
   "execution_count": 36,
   "id": "07a01819",
   "metadata": {},
   "outputs": [
    {
     "name": "stderr",
     "output_type": "stream",
     "text": [
      "Warning message:\n",
      "\"Expected 2 pieces. Additional pieces discarded in 67 rows [1, 2, 3, 4, 5, 6, 7, 8, 9, 10, 11, 12, 13, 14, 15, 16, 17, 18, 19, 20, ...].\"\n"
     ]
    },
    {
     "data": {
      "text/html": [
       "<table class=\"dataframe\">\n",
       "<caption>A data.frame: 67 × 9</caption>\n",
       "<thead>\n",
       "\t<tr><th scope=col>Id</th><th scope=col>Date</th><th scope=col>Time</th><th scope=col>WeightKg</th><th scope=col>WeightPounds</th><th scope=col>Fat</th><th scope=col>BMI</th><th scope=col>IsManualReport</th><th scope=col>LogId</th></tr>\n",
       "\t<tr><th scope=col>&lt;dbl&gt;</th><th scope=col>&lt;chr&gt;</th><th scope=col>&lt;chr&gt;</th><th scope=col>&lt;dbl&gt;</th><th scope=col>&lt;dbl&gt;</th><th scope=col>&lt;int&gt;</th><th scope=col>&lt;dbl&gt;</th><th scope=col>&lt;chr&gt;</th><th scope=col>&lt;dbl&gt;</th></tr>\n",
       "</thead>\n",
       "<tbody>\n",
       "\t<tr><td>1503960366</td><td>5/2/2016 </td><td>11:59:59</td><td> 52.6</td><td>115.9631</td><td>22</td><td>22.65</td><td>True </td><td>1.462234e+12</td></tr>\n",
       "\t<tr><td>1503960366</td><td>5/3/2016 </td><td>11:59:59</td><td> 52.6</td><td>115.9631</td><td>NA</td><td>22.65</td><td>True </td><td>1.462320e+12</td></tr>\n",
       "\t<tr><td>1927972279</td><td>4/13/2016</td><td>1:08:52 </td><td>133.5</td><td>294.3171</td><td>NA</td><td>47.54</td><td>False</td><td>1.460510e+12</td></tr>\n",
       "\t<tr><td>2873212765</td><td>4/21/2016</td><td>11:59:59</td><td> 56.7</td><td>125.0021</td><td>NA</td><td>21.45</td><td>True </td><td>1.461283e+12</td></tr>\n",
       "\t<tr><td>2873212765</td><td>5/12/2016</td><td>11:59:59</td><td> 57.3</td><td>126.3249</td><td>NA</td><td>21.69</td><td>True </td><td>1.463098e+12</td></tr>\n",
       "\t<tr><td>4319703577</td><td>4/17/2016</td><td>11:59:59</td><td> 72.4</td><td>159.6147</td><td>25</td><td>27.45</td><td>True </td><td>1.460938e+12</td></tr>\n",
       "\t<tr><td>4319703577</td><td>5/4/2016 </td><td>11:59:59</td><td> 72.3</td><td>159.3942</td><td>NA</td><td>27.38</td><td>True </td><td>1.462406e+12</td></tr>\n",
       "\t<tr><td>4558609924</td><td>4/18/2016</td><td>11:59:59</td><td> 69.7</td><td>153.6622</td><td>NA</td><td>27.25</td><td>True </td><td>1.461024e+12</td></tr>\n",
       "\t<tr><td>4558609924</td><td>4/25/2016</td><td>11:59:59</td><td> 70.3</td><td>154.9850</td><td>NA</td><td>27.46</td><td>True </td><td>1.461629e+12</td></tr>\n",
       "\t<tr><td>4558609924</td><td>5/1/2016 </td><td>11:59:59</td><td> 69.9</td><td>154.1031</td><td>NA</td><td>27.32</td><td>True </td><td>1.462147e+12</td></tr>\n",
       "\t<tr><td>4558609924</td><td>5/2/2016 </td><td>11:59:59</td><td> 69.2</td><td>152.5599</td><td>NA</td><td>27.04</td><td>True </td><td>1.462234e+12</td></tr>\n",
       "\t<tr><td>4558609924</td><td>5/9/2016 </td><td>11:59:59</td><td> 69.1</td><td>152.3394</td><td>NA</td><td>27.00</td><td>True </td><td>1.462838e+12</td></tr>\n",
       "\t<tr><td>5577150313</td><td>4/17/2016</td><td>9:17:55 </td><td> 90.7</td><td>199.9593</td><td>NA</td><td>28.00</td><td>False</td><td>1.460885e+12</td></tr>\n",
       "\t<tr><td>6962181067</td><td>4/12/2016</td><td>11:59:59</td><td> 62.5</td><td>137.7889</td><td>NA</td><td>24.39</td><td>True </td><td>1.460506e+12</td></tr>\n",
       "\t<tr><td>6962181067</td><td>4/13/2016</td><td>11:59:59</td><td> 62.1</td><td>136.9071</td><td>NA</td><td>24.24</td><td>True </td><td>1.460592e+12</td></tr>\n",
       "\t<tr><td>6962181067</td><td>4/14/2016</td><td>11:59:59</td><td> 61.7</td><td>136.0252</td><td>NA</td><td>24.10</td><td>True </td><td>1.460678e+12</td></tr>\n",
       "\t<tr><td>6962181067</td><td>4/15/2016</td><td>11:59:59</td><td> 61.5</td><td>135.5843</td><td>NA</td><td>24.00</td><td>True </td><td>1.460765e+12</td></tr>\n",
       "\t<tr><td>6962181067</td><td>4/16/2016</td><td>11:59:59</td><td> 62.0</td><td>136.6866</td><td>NA</td><td>24.21</td><td>True </td><td>1.460851e+12</td></tr>\n",
       "\t<tr><td>6962181067</td><td>4/17/2016</td><td>11:59:59</td><td> 61.4</td><td>135.3638</td><td>NA</td><td>23.96</td><td>True </td><td>1.460938e+12</td></tr>\n",
       "\t<tr><td>6962181067</td><td>4/18/2016</td><td>11:59:59</td><td> 61.2</td><td>134.9229</td><td>NA</td><td>23.89</td><td>True </td><td>1.461024e+12</td></tr>\n",
       "\t<tr><td>6962181067</td><td>4/19/2016</td><td>11:59:59</td><td> 61.4</td><td>135.3638</td><td>NA</td><td>23.96</td><td>True </td><td>1.461110e+12</td></tr>\n",
       "\t<tr><td>6962181067</td><td>4/20/2016</td><td>11:59:59</td><td> 61.7</td><td>136.0252</td><td>NA</td><td>24.10</td><td>True </td><td>1.461197e+12</td></tr>\n",
       "\t<tr><td>6962181067</td><td>4/21/2016</td><td>11:59:59</td><td> 61.4</td><td>135.3638</td><td>NA</td><td>23.96</td><td>True </td><td>1.461283e+12</td></tr>\n",
       "\t<tr><td>6962181067</td><td>4/22/2016</td><td>11:59:59</td><td> 61.4</td><td>135.3638</td><td>NA</td><td>23.96</td><td>True </td><td>1.461370e+12</td></tr>\n",
       "\t<tr><td>6962181067</td><td>4/23/2016</td><td>11:59:59</td><td> 61.5</td><td>135.5843</td><td>NA</td><td>24.00</td><td>True </td><td>1.461456e+12</td></tr>\n",
       "\t<tr><td>6962181067</td><td>4/24/2016</td><td>11:59:59</td><td> 61.5</td><td>135.5843</td><td>NA</td><td>24.00</td><td>True </td><td>1.461542e+12</td></tr>\n",
       "\t<tr><td>6962181067</td><td>4/25/2016</td><td>11:59:59</td><td> 61.7</td><td>136.0252</td><td>NA</td><td>24.10</td><td>True </td><td>1.461629e+12</td></tr>\n",
       "\t<tr><td>6962181067</td><td>4/27/2016</td><td>11:59:59</td><td> 61.2</td><td>134.9229</td><td>NA</td><td>23.89</td><td>True </td><td>1.461802e+12</td></tr>\n",
       "\t<tr><td>6962181067</td><td>4/28/2016</td><td>11:59:59</td><td> 61.2</td><td>134.9229</td><td>NA</td><td>23.89</td><td>True </td><td>1.461888e+12</td></tr>\n",
       "\t<tr><td>6962181067</td><td>4/29/2016</td><td>11:59:59</td><td> 61.4</td><td>135.3638</td><td>NA</td><td>23.96</td><td>True </td><td>1.461974e+12</td></tr>\n",
       "\t<tr><td>⋮</td><td>⋮</td><td>⋮</td><td>⋮</td><td>⋮</td><td>⋮</td><td>⋮</td><td>⋮</td><td>⋮</td></tr>\n",
       "\t<tr><td>6962181067</td><td>5/7/2016 </td><td>11:59:59</td><td>61.2</td><td>134.9229</td><td>NA</td><td>23.89</td><td>True </td><td>1.462666e+12</td></tr>\n",
       "\t<tr><td>6962181067</td><td>5/8/2016 </td><td>11:59:59</td><td>61.2</td><td>134.9229</td><td>NA</td><td>23.89</td><td>True </td><td>1.462752e+12</td></tr>\n",
       "\t<tr><td>6962181067</td><td>5/9/2016 </td><td>11:59:59</td><td>62.4</td><td>137.5685</td><td>NA</td><td>24.35</td><td>True </td><td>1.462838e+12</td></tr>\n",
       "\t<tr><td>6962181067</td><td>5/10/2016</td><td>11:59:59</td><td>62.1</td><td>136.9071</td><td>NA</td><td>24.24</td><td>True </td><td>1.462925e+12</td></tr>\n",
       "\t<tr><td>6962181067</td><td>5/11/2016</td><td>11:59:59</td><td>61.9</td><td>136.4661</td><td>NA</td><td>24.17</td><td>True </td><td>1.463011e+12</td></tr>\n",
       "\t<tr><td>6962181067</td><td>5/12/2016</td><td>11:59:59</td><td>61.9</td><td>136.4661</td><td>NA</td><td>24.17</td><td>True </td><td>1.463098e+12</td></tr>\n",
       "\t<tr><td>8877689391</td><td>4/12/2016</td><td>6:47:11 </td><td>85.8</td><td>189.1566</td><td>NA</td><td>25.68</td><td>False</td><td>1.460444e+12</td></tr>\n",
       "\t<tr><td>8877689391</td><td>4/13/2016</td><td>6:55:00 </td><td>84.9</td><td>187.1725</td><td>NA</td><td>25.41</td><td>False</td><td>1.460531e+12</td></tr>\n",
       "\t<tr><td>8877689391</td><td>4/14/2016</td><td>6:48:43 </td><td>84.5</td><td>186.2906</td><td>NA</td><td>25.31</td><td>False</td><td>1.460617e+12</td></tr>\n",
       "\t<tr><td>8877689391</td><td>4/16/2016</td><td>1:39:25 </td><td>85.5</td><td>188.4952</td><td>NA</td><td>25.59</td><td>False</td><td>1.460814e+12</td></tr>\n",
       "\t<tr><td>8877689391</td><td>4/18/2016</td><td>6:51:14 </td><td>85.8</td><td>189.1566</td><td>NA</td><td>25.68</td><td>False</td><td>1.460962e+12</td></tr>\n",
       "\t<tr><td>8877689391</td><td>4/19/2016</td><td>6:39:31 </td><td>85.3</td><td>188.0543</td><td>NA</td><td>25.53</td><td>False</td><td>1.461048e+12</td></tr>\n",
       "\t<tr><td>8877689391</td><td>4/20/2016</td><td>6:44:54 </td><td>84.9</td><td>187.1725</td><td>NA</td><td>25.41</td><td>False</td><td>1.461135e+12</td></tr>\n",
       "\t<tr><td>8877689391</td><td>4/21/2016</td><td>6:50:27 </td><td>84.5</td><td>186.2906</td><td>NA</td><td>25.29</td><td>False</td><td>1.461221e+12</td></tr>\n",
       "\t<tr><td>8877689391</td><td>4/23/2016</td><td>7:22:28 </td><td>85.5</td><td>188.4952</td><td>NA</td><td>25.59</td><td>False</td><td>1.461396e+12</td></tr>\n",
       "\t<tr><td>8877689391</td><td>4/24/2016</td><td>7:38:05 </td><td>85.5</td><td>188.4952</td><td>NA</td><td>25.59</td><td>False</td><td>1.461483e+12</td></tr>\n",
       "\t<tr><td>8877689391</td><td>4/25/2016</td><td>6:40:16 </td><td>85.4</td><td>188.2748</td><td>NA</td><td>25.56</td><td>False</td><td>1.461566e+12</td></tr>\n",
       "\t<tr><td>8877689391</td><td>4/26/2016</td><td>6:50:27 </td><td>85.1</td><td>187.6134</td><td>NA</td><td>25.49</td><td>False</td><td>1.461653e+12</td></tr>\n",
       "\t<tr><td>8877689391</td><td>4/27/2016</td><td>6:51:05 </td><td>85.4</td><td>188.2748</td><td>NA</td><td>25.56</td><td>False</td><td>1.461740e+12</td></tr>\n",
       "\t<tr><td>8877689391</td><td>4/28/2016</td><td>6:50:03 </td><td>85.1</td><td>187.6134</td><td>NA</td><td>25.49</td><td>False</td><td>1.461826e+12</td></tr>\n",
       "\t<tr><td>8877689391</td><td>4/29/2016</td><td>6:49:55 </td><td>84.9</td><td>187.1725</td><td>NA</td><td>25.41</td><td>False</td><td>1.461913e+12</td></tr>\n",
       "\t<tr><td>8877689391</td><td>4/30/2016</td><td>7:49:03 </td><td>85.5</td><td>188.4952</td><td>NA</td><td>25.59</td><td>False</td><td>1.462003e+12</td></tr>\n",
       "\t<tr><td>8877689391</td><td>5/1/2016 </td><td>8:47:49 </td><td>85.3</td><td>188.0543</td><td>NA</td><td>25.53</td><td>False</td><td>1.462092e+12</td></tr>\n",
       "\t<tr><td>8877689391</td><td>5/3/2016 </td><td>6:49:41 </td><td>84.9</td><td>187.1725</td><td>NA</td><td>25.41</td><td>False</td><td>1.462258e+12</td></tr>\n",
       "\t<tr><td>8877689391</td><td>5/4/2016 </td><td>6:48:22 </td><td>84.4</td><td>186.0702</td><td>NA</td><td>25.26</td><td>False</td><td>1.462345e+12</td></tr>\n",
       "\t<tr><td>8877689391</td><td>5/6/2016 </td><td>6:43:35 </td><td>85.0</td><td>187.3929</td><td>NA</td><td>25.44</td><td>False</td><td>1.462517e+12</td></tr>\n",
       "\t<tr><td>8877689391</td><td>5/8/2016 </td><td>7:35:53 </td><td>85.4</td><td>188.2748</td><td>NA</td><td>25.56</td><td>False</td><td>1.462693e+12</td></tr>\n",
       "\t<tr><td>8877689391</td><td>5/9/2016 </td><td>6:39:44 </td><td>85.5</td><td>188.4952</td><td>NA</td><td>25.61</td><td>False</td><td>1.462776e+12</td></tr>\n",
       "\t<tr><td>8877689391</td><td>5/11/2016</td><td>6:51:47 </td><td>85.4</td><td>188.2748</td><td>NA</td><td>25.56</td><td>False</td><td>1.462950e+12</td></tr>\n",
       "\t<tr><td>8877689391</td><td>5/12/2016</td><td>6:42:53 </td><td>84.0</td><td>185.1883</td><td>NA</td><td>25.14</td><td>False</td><td>1.463035e+12</td></tr>\n",
       "</tbody>\n",
       "</table>\n"
      ],
      "text/latex": [
       "A data.frame: 67 × 9\n",
       "\\begin{tabular}{lllllllll}\n",
       " Id & Date & Time & WeightKg & WeightPounds & Fat & BMI & IsManualReport & LogId\\\\\n",
       " <dbl> & <chr> & <chr> & <dbl> & <dbl> & <int> & <dbl> & <chr> & <dbl>\\\\\n",
       "\\hline\n",
       "\t 1503960366 & 5/2/2016  & 11:59:59 &  52.6 & 115.9631 & 22 & 22.65 & True  & 1.462234e+12\\\\\n",
       "\t 1503960366 & 5/3/2016  & 11:59:59 &  52.6 & 115.9631 & NA & 22.65 & True  & 1.462320e+12\\\\\n",
       "\t 1927972279 & 4/13/2016 & 1:08:52  & 133.5 & 294.3171 & NA & 47.54 & False & 1.460510e+12\\\\\n",
       "\t 2873212765 & 4/21/2016 & 11:59:59 &  56.7 & 125.0021 & NA & 21.45 & True  & 1.461283e+12\\\\\n",
       "\t 2873212765 & 5/12/2016 & 11:59:59 &  57.3 & 126.3249 & NA & 21.69 & True  & 1.463098e+12\\\\\n",
       "\t 4319703577 & 4/17/2016 & 11:59:59 &  72.4 & 159.6147 & 25 & 27.45 & True  & 1.460938e+12\\\\\n",
       "\t 4319703577 & 5/4/2016  & 11:59:59 &  72.3 & 159.3942 & NA & 27.38 & True  & 1.462406e+12\\\\\n",
       "\t 4558609924 & 4/18/2016 & 11:59:59 &  69.7 & 153.6622 & NA & 27.25 & True  & 1.461024e+12\\\\\n",
       "\t 4558609924 & 4/25/2016 & 11:59:59 &  70.3 & 154.9850 & NA & 27.46 & True  & 1.461629e+12\\\\\n",
       "\t 4558609924 & 5/1/2016  & 11:59:59 &  69.9 & 154.1031 & NA & 27.32 & True  & 1.462147e+12\\\\\n",
       "\t 4558609924 & 5/2/2016  & 11:59:59 &  69.2 & 152.5599 & NA & 27.04 & True  & 1.462234e+12\\\\\n",
       "\t 4558609924 & 5/9/2016  & 11:59:59 &  69.1 & 152.3394 & NA & 27.00 & True  & 1.462838e+12\\\\\n",
       "\t 5577150313 & 4/17/2016 & 9:17:55  &  90.7 & 199.9593 & NA & 28.00 & False & 1.460885e+12\\\\\n",
       "\t 6962181067 & 4/12/2016 & 11:59:59 &  62.5 & 137.7889 & NA & 24.39 & True  & 1.460506e+12\\\\\n",
       "\t 6962181067 & 4/13/2016 & 11:59:59 &  62.1 & 136.9071 & NA & 24.24 & True  & 1.460592e+12\\\\\n",
       "\t 6962181067 & 4/14/2016 & 11:59:59 &  61.7 & 136.0252 & NA & 24.10 & True  & 1.460678e+12\\\\\n",
       "\t 6962181067 & 4/15/2016 & 11:59:59 &  61.5 & 135.5843 & NA & 24.00 & True  & 1.460765e+12\\\\\n",
       "\t 6962181067 & 4/16/2016 & 11:59:59 &  62.0 & 136.6866 & NA & 24.21 & True  & 1.460851e+12\\\\\n",
       "\t 6962181067 & 4/17/2016 & 11:59:59 &  61.4 & 135.3638 & NA & 23.96 & True  & 1.460938e+12\\\\\n",
       "\t 6962181067 & 4/18/2016 & 11:59:59 &  61.2 & 134.9229 & NA & 23.89 & True  & 1.461024e+12\\\\\n",
       "\t 6962181067 & 4/19/2016 & 11:59:59 &  61.4 & 135.3638 & NA & 23.96 & True  & 1.461110e+12\\\\\n",
       "\t 6962181067 & 4/20/2016 & 11:59:59 &  61.7 & 136.0252 & NA & 24.10 & True  & 1.461197e+12\\\\\n",
       "\t 6962181067 & 4/21/2016 & 11:59:59 &  61.4 & 135.3638 & NA & 23.96 & True  & 1.461283e+12\\\\\n",
       "\t 6962181067 & 4/22/2016 & 11:59:59 &  61.4 & 135.3638 & NA & 23.96 & True  & 1.461370e+12\\\\\n",
       "\t 6962181067 & 4/23/2016 & 11:59:59 &  61.5 & 135.5843 & NA & 24.00 & True  & 1.461456e+12\\\\\n",
       "\t 6962181067 & 4/24/2016 & 11:59:59 &  61.5 & 135.5843 & NA & 24.00 & True  & 1.461542e+12\\\\\n",
       "\t 6962181067 & 4/25/2016 & 11:59:59 &  61.7 & 136.0252 & NA & 24.10 & True  & 1.461629e+12\\\\\n",
       "\t 6962181067 & 4/27/2016 & 11:59:59 &  61.2 & 134.9229 & NA & 23.89 & True  & 1.461802e+12\\\\\n",
       "\t 6962181067 & 4/28/2016 & 11:59:59 &  61.2 & 134.9229 & NA & 23.89 & True  & 1.461888e+12\\\\\n",
       "\t 6962181067 & 4/29/2016 & 11:59:59 &  61.4 & 135.3638 & NA & 23.96 & True  & 1.461974e+12\\\\\n",
       "\t ⋮ & ⋮ & ⋮ & ⋮ & ⋮ & ⋮ & ⋮ & ⋮ & ⋮\\\\\n",
       "\t 6962181067 & 5/7/2016  & 11:59:59 & 61.2 & 134.9229 & NA & 23.89 & True  & 1.462666e+12\\\\\n",
       "\t 6962181067 & 5/8/2016  & 11:59:59 & 61.2 & 134.9229 & NA & 23.89 & True  & 1.462752e+12\\\\\n",
       "\t 6962181067 & 5/9/2016  & 11:59:59 & 62.4 & 137.5685 & NA & 24.35 & True  & 1.462838e+12\\\\\n",
       "\t 6962181067 & 5/10/2016 & 11:59:59 & 62.1 & 136.9071 & NA & 24.24 & True  & 1.462925e+12\\\\\n",
       "\t 6962181067 & 5/11/2016 & 11:59:59 & 61.9 & 136.4661 & NA & 24.17 & True  & 1.463011e+12\\\\\n",
       "\t 6962181067 & 5/12/2016 & 11:59:59 & 61.9 & 136.4661 & NA & 24.17 & True  & 1.463098e+12\\\\\n",
       "\t 8877689391 & 4/12/2016 & 6:47:11  & 85.8 & 189.1566 & NA & 25.68 & False & 1.460444e+12\\\\\n",
       "\t 8877689391 & 4/13/2016 & 6:55:00  & 84.9 & 187.1725 & NA & 25.41 & False & 1.460531e+12\\\\\n",
       "\t 8877689391 & 4/14/2016 & 6:48:43  & 84.5 & 186.2906 & NA & 25.31 & False & 1.460617e+12\\\\\n",
       "\t 8877689391 & 4/16/2016 & 1:39:25  & 85.5 & 188.4952 & NA & 25.59 & False & 1.460814e+12\\\\\n",
       "\t 8877689391 & 4/18/2016 & 6:51:14  & 85.8 & 189.1566 & NA & 25.68 & False & 1.460962e+12\\\\\n",
       "\t 8877689391 & 4/19/2016 & 6:39:31  & 85.3 & 188.0543 & NA & 25.53 & False & 1.461048e+12\\\\\n",
       "\t 8877689391 & 4/20/2016 & 6:44:54  & 84.9 & 187.1725 & NA & 25.41 & False & 1.461135e+12\\\\\n",
       "\t 8877689391 & 4/21/2016 & 6:50:27  & 84.5 & 186.2906 & NA & 25.29 & False & 1.461221e+12\\\\\n",
       "\t 8877689391 & 4/23/2016 & 7:22:28  & 85.5 & 188.4952 & NA & 25.59 & False & 1.461396e+12\\\\\n",
       "\t 8877689391 & 4/24/2016 & 7:38:05  & 85.5 & 188.4952 & NA & 25.59 & False & 1.461483e+12\\\\\n",
       "\t 8877689391 & 4/25/2016 & 6:40:16  & 85.4 & 188.2748 & NA & 25.56 & False & 1.461566e+12\\\\\n",
       "\t 8877689391 & 4/26/2016 & 6:50:27  & 85.1 & 187.6134 & NA & 25.49 & False & 1.461653e+12\\\\\n",
       "\t 8877689391 & 4/27/2016 & 6:51:05  & 85.4 & 188.2748 & NA & 25.56 & False & 1.461740e+12\\\\\n",
       "\t 8877689391 & 4/28/2016 & 6:50:03  & 85.1 & 187.6134 & NA & 25.49 & False & 1.461826e+12\\\\\n",
       "\t 8877689391 & 4/29/2016 & 6:49:55  & 84.9 & 187.1725 & NA & 25.41 & False & 1.461913e+12\\\\\n",
       "\t 8877689391 & 4/30/2016 & 7:49:03  & 85.5 & 188.4952 & NA & 25.59 & False & 1.462003e+12\\\\\n",
       "\t 8877689391 & 5/1/2016  & 8:47:49  & 85.3 & 188.0543 & NA & 25.53 & False & 1.462092e+12\\\\\n",
       "\t 8877689391 & 5/3/2016  & 6:49:41  & 84.9 & 187.1725 & NA & 25.41 & False & 1.462258e+12\\\\\n",
       "\t 8877689391 & 5/4/2016  & 6:48:22  & 84.4 & 186.0702 & NA & 25.26 & False & 1.462345e+12\\\\\n",
       "\t 8877689391 & 5/6/2016  & 6:43:35  & 85.0 & 187.3929 & NA & 25.44 & False & 1.462517e+12\\\\\n",
       "\t 8877689391 & 5/8/2016  & 7:35:53  & 85.4 & 188.2748 & NA & 25.56 & False & 1.462693e+12\\\\\n",
       "\t 8877689391 & 5/9/2016  & 6:39:44  & 85.5 & 188.4952 & NA & 25.61 & False & 1.462776e+12\\\\\n",
       "\t 8877689391 & 5/11/2016 & 6:51:47  & 85.4 & 188.2748 & NA & 25.56 & False & 1.462950e+12\\\\\n",
       "\t 8877689391 & 5/12/2016 & 6:42:53  & 84.0 & 185.1883 & NA & 25.14 & False & 1.463035e+12\\\\\n",
       "\\end{tabular}\n"
      ],
      "text/markdown": [
       "\n",
       "A data.frame: 67 × 9\n",
       "\n",
       "| Id &lt;dbl&gt; | Date &lt;chr&gt; | Time &lt;chr&gt; | WeightKg &lt;dbl&gt; | WeightPounds &lt;dbl&gt; | Fat &lt;int&gt; | BMI &lt;dbl&gt; | IsManualReport &lt;chr&gt; | LogId &lt;dbl&gt; |\n",
       "|---|---|---|---|---|---|---|---|---|\n",
       "| 1503960366 | 5/2/2016  | 11:59:59 |  52.6 | 115.9631 | 22 | 22.65 | True  | 1.462234e+12 |\n",
       "| 1503960366 | 5/3/2016  | 11:59:59 |  52.6 | 115.9631 | NA | 22.65 | True  | 1.462320e+12 |\n",
       "| 1927972279 | 4/13/2016 | 1:08:52  | 133.5 | 294.3171 | NA | 47.54 | False | 1.460510e+12 |\n",
       "| 2873212765 | 4/21/2016 | 11:59:59 |  56.7 | 125.0021 | NA | 21.45 | True  | 1.461283e+12 |\n",
       "| 2873212765 | 5/12/2016 | 11:59:59 |  57.3 | 126.3249 | NA | 21.69 | True  | 1.463098e+12 |\n",
       "| 4319703577 | 4/17/2016 | 11:59:59 |  72.4 | 159.6147 | 25 | 27.45 | True  | 1.460938e+12 |\n",
       "| 4319703577 | 5/4/2016  | 11:59:59 |  72.3 | 159.3942 | NA | 27.38 | True  | 1.462406e+12 |\n",
       "| 4558609924 | 4/18/2016 | 11:59:59 |  69.7 | 153.6622 | NA | 27.25 | True  | 1.461024e+12 |\n",
       "| 4558609924 | 4/25/2016 | 11:59:59 |  70.3 | 154.9850 | NA | 27.46 | True  | 1.461629e+12 |\n",
       "| 4558609924 | 5/1/2016  | 11:59:59 |  69.9 | 154.1031 | NA | 27.32 | True  | 1.462147e+12 |\n",
       "| 4558609924 | 5/2/2016  | 11:59:59 |  69.2 | 152.5599 | NA | 27.04 | True  | 1.462234e+12 |\n",
       "| 4558609924 | 5/9/2016  | 11:59:59 |  69.1 | 152.3394 | NA | 27.00 | True  | 1.462838e+12 |\n",
       "| 5577150313 | 4/17/2016 | 9:17:55  |  90.7 | 199.9593 | NA | 28.00 | False | 1.460885e+12 |\n",
       "| 6962181067 | 4/12/2016 | 11:59:59 |  62.5 | 137.7889 | NA | 24.39 | True  | 1.460506e+12 |\n",
       "| 6962181067 | 4/13/2016 | 11:59:59 |  62.1 | 136.9071 | NA | 24.24 | True  | 1.460592e+12 |\n",
       "| 6962181067 | 4/14/2016 | 11:59:59 |  61.7 | 136.0252 | NA | 24.10 | True  | 1.460678e+12 |\n",
       "| 6962181067 | 4/15/2016 | 11:59:59 |  61.5 | 135.5843 | NA | 24.00 | True  | 1.460765e+12 |\n",
       "| 6962181067 | 4/16/2016 | 11:59:59 |  62.0 | 136.6866 | NA | 24.21 | True  | 1.460851e+12 |\n",
       "| 6962181067 | 4/17/2016 | 11:59:59 |  61.4 | 135.3638 | NA | 23.96 | True  | 1.460938e+12 |\n",
       "| 6962181067 | 4/18/2016 | 11:59:59 |  61.2 | 134.9229 | NA | 23.89 | True  | 1.461024e+12 |\n",
       "| 6962181067 | 4/19/2016 | 11:59:59 |  61.4 | 135.3638 | NA | 23.96 | True  | 1.461110e+12 |\n",
       "| 6962181067 | 4/20/2016 | 11:59:59 |  61.7 | 136.0252 | NA | 24.10 | True  | 1.461197e+12 |\n",
       "| 6962181067 | 4/21/2016 | 11:59:59 |  61.4 | 135.3638 | NA | 23.96 | True  | 1.461283e+12 |\n",
       "| 6962181067 | 4/22/2016 | 11:59:59 |  61.4 | 135.3638 | NA | 23.96 | True  | 1.461370e+12 |\n",
       "| 6962181067 | 4/23/2016 | 11:59:59 |  61.5 | 135.5843 | NA | 24.00 | True  | 1.461456e+12 |\n",
       "| 6962181067 | 4/24/2016 | 11:59:59 |  61.5 | 135.5843 | NA | 24.00 | True  | 1.461542e+12 |\n",
       "| 6962181067 | 4/25/2016 | 11:59:59 |  61.7 | 136.0252 | NA | 24.10 | True  | 1.461629e+12 |\n",
       "| 6962181067 | 4/27/2016 | 11:59:59 |  61.2 | 134.9229 | NA | 23.89 | True  | 1.461802e+12 |\n",
       "| 6962181067 | 4/28/2016 | 11:59:59 |  61.2 | 134.9229 | NA | 23.89 | True  | 1.461888e+12 |\n",
       "| 6962181067 | 4/29/2016 | 11:59:59 |  61.4 | 135.3638 | NA | 23.96 | True  | 1.461974e+12 |\n",
       "| ⋮ | ⋮ | ⋮ | ⋮ | ⋮ | ⋮ | ⋮ | ⋮ | ⋮ |\n",
       "| 6962181067 | 5/7/2016  | 11:59:59 | 61.2 | 134.9229 | NA | 23.89 | True  | 1.462666e+12 |\n",
       "| 6962181067 | 5/8/2016  | 11:59:59 | 61.2 | 134.9229 | NA | 23.89 | True  | 1.462752e+12 |\n",
       "| 6962181067 | 5/9/2016  | 11:59:59 | 62.4 | 137.5685 | NA | 24.35 | True  | 1.462838e+12 |\n",
       "| 6962181067 | 5/10/2016 | 11:59:59 | 62.1 | 136.9071 | NA | 24.24 | True  | 1.462925e+12 |\n",
       "| 6962181067 | 5/11/2016 | 11:59:59 | 61.9 | 136.4661 | NA | 24.17 | True  | 1.463011e+12 |\n",
       "| 6962181067 | 5/12/2016 | 11:59:59 | 61.9 | 136.4661 | NA | 24.17 | True  | 1.463098e+12 |\n",
       "| 8877689391 | 4/12/2016 | 6:47:11  | 85.8 | 189.1566 | NA | 25.68 | False | 1.460444e+12 |\n",
       "| 8877689391 | 4/13/2016 | 6:55:00  | 84.9 | 187.1725 | NA | 25.41 | False | 1.460531e+12 |\n",
       "| 8877689391 | 4/14/2016 | 6:48:43  | 84.5 | 186.2906 | NA | 25.31 | False | 1.460617e+12 |\n",
       "| 8877689391 | 4/16/2016 | 1:39:25  | 85.5 | 188.4952 | NA | 25.59 | False | 1.460814e+12 |\n",
       "| 8877689391 | 4/18/2016 | 6:51:14  | 85.8 | 189.1566 | NA | 25.68 | False | 1.460962e+12 |\n",
       "| 8877689391 | 4/19/2016 | 6:39:31  | 85.3 | 188.0543 | NA | 25.53 | False | 1.461048e+12 |\n",
       "| 8877689391 | 4/20/2016 | 6:44:54  | 84.9 | 187.1725 | NA | 25.41 | False | 1.461135e+12 |\n",
       "| 8877689391 | 4/21/2016 | 6:50:27  | 84.5 | 186.2906 | NA | 25.29 | False | 1.461221e+12 |\n",
       "| 8877689391 | 4/23/2016 | 7:22:28  | 85.5 | 188.4952 | NA | 25.59 | False | 1.461396e+12 |\n",
       "| 8877689391 | 4/24/2016 | 7:38:05  | 85.5 | 188.4952 | NA | 25.59 | False | 1.461483e+12 |\n",
       "| 8877689391 | 4/25/2016 | 6:40:16  | 85.4 | 188.2748 | NA | 25.56 | False | 1.461566e+12 |\n",
       "| 8877689391 | 4/26/2016 | 6:50:27  | 85.1 | 187.6134 | NA | 25.49 | False | 1.461653e+12 |\n",
       "| 8877689391 | 4/27/2016 | 6:51:05  | 85.4 | 188.2748 | NA | 25.56 | False | 1.461740e+12 |\n",
       "| 8877689391 | 4/28/2016 | 6:50:03  | 85.1 | 187.6134 | NA | 25.49 | False | 1.461826e+12 |\n",
       "| 8877689391 | 4/29/2016 | 6:49:55  | 84.9 | 187.1725 | NA | 25.41 | False | 1.461913e+12 |\n",
       "| 8877689391 | 4/30/2016 | 7:49:03  | 85.5 | 188.4952 | NA | 25.59 | False | 1.462003e+12 |\n",
       "| 8877689391 | 5/1/2016  | 8:47:49  | 85.3 | 188.0543 | NA | 25.53 | False | 1.462092e+12 |\n",
       "| 8877689391 | 5/3/2016  | 6:49:41  | 84.9 | 187.1725 | NA | 25.41 | False | 1.462258e+12 |\n",
       "| 8877689391 | 5/4/2016  | 6:48:22  | 84.4 | 186.0702 | NA | 25.26 | False | 1.462345e+12 |\n",
       "| 8877689391 | 5/6/2016  | 6:43:35  | 85.0 | 187.3929 | NA | 25.44 | False | 1.462517e+12 |\n",
       "| 8877689391 | 5/8/2016  | 7:35:53  | 85.4 | 188.2748 | NA | 25.56 | False | 1.462693e+12 |\n",
       "| 8877689391 | 5/9/2016  | 6:39:44  | 85.5 | 188.4952 | NA | 25.61 | False | 1.462776e+12 |\n",
       "| 8877689391 | 5/11/2016 | 6:51:47  | 85.4 | 188.2748 | NA | 25.56 | False | 1.462950e+12 |\n",
       "| 8877689391 | 5/12/2016 | 6:42:53  | 84.0 | 185.1883 | NA | 25.14 | False | 1.463035e+12 |\n",
       "\n"
      ],
      "text/plain": [
       "   Id         Date      Time     WeightKg WeightPounds Fat BMI   IsManualReport\n",
       "1  1503960366 5/2/2016  11:59:59  52.6    115.9631     22  22.65 True          \n",
       "2  1503960366 5/3/2016  11:59:59  52.6    115.9631     NA  22.65 True          \n",
       "3  1927972279 4/13/2016 1:08:52  133.5    294.3171     NA  47.54 False         \n",
       "4  2873212765 4/21/2016 11:59:59  56.7    125.0021     NA  21.45 True          \n",
       "5  2873212765 5/12/2016 11:59:59  57.3    126.3249     NA  21.69 True          \n",
       "6  4319703577 4/17/2016 11:59:59  72.4    159.6147     25  27.45 True          \n",
       "7  4319703577 5/4/2016  11:59:59  72.3    159.3942     NA  27.38 True          \n",
       "8  4558609924 4/18/2016 11:59:59  69.7    153.6622     NA  27.25 True          \n",
       "9  4558609924 4/25/2016 11:59:59  70.3    154.9850     NA  27.46 True          \n",
       "10 4558609924 5/1/2016  11:59:59  69.9    154.1031     NA  27.32 True          \n",
       "11 4558609924 5/2/2016  11:59:59  69.2    152.5599     NA  27.04 True          \n",
       "12 4558609924 5/9/2016  11:59:59  69.1    152.3394     NA  27.00 True          \n",
       "13 5577150313 4/17/2016 9:17:55   90.7    199.9593     NA  28.00 False         \n",
       "14 6962181067 4/12/2016 11:59:59  62.5    137.7889     NA  24.39 True          \n",
       "15 6962181067 4/13/2016 11:59:59  62.1    136.9071     NA  24.24 True          \n",
       "16 6962181067 4/14/2016 11:59:59  61.7    136.0252     NA  24.10 True          \n",
       "17 6962181067 4/15/2016 11:59:59  61.5    135.5843     NA  24.00 True          \n",
       "18 6962181067 4/16/2016 11:59:59  62.0    136.6866     NA  24.21 True          \n",
       "19 6962181067 4/17/2016 11:59:59  61.4    135.3638     NA  23.96 True          \n",
       "20 6962181067 4/18/2016 11:59:59  61.2    134.9229     NA  23.89 True          \n",
       "21 6962181067 4/19/2016 11:59:59  61.4    135.3638     NA  23.96 True          \n",
       "22 6962181067 4/20/2016 11:59:59  61.7    136.0252     NA  24.10 True          \n",
       "23 6962181067 4/21/2016 11:59:59  61.4    135.3638     NA  23.96 True          \n",
       "24 6962181067 4/22/2016 11:59:59  61.4    135.3638     NA  23.96 True          \n",
       "25 6962181067 4/23/2016 11:59:59  61.5    135.5843     NA  24.00 True          \n",
       "26 6962181067 4/24/2016 11:59:59  61.5    135.5843     NA  24.00 True          \n",
       "27 6962181067 4/25/2016 11:59:59  61.7    136.0252     NA  24.10 True          \n",
       "28 6962181067 4/27/2016 11:59:59  61.2    134.9229     NA  23.89 True          \n",
       "29 6962181067 4/28/2016 11:59:59  61.2    134.9229     NA  23.89 True          \n",
       "30 6962181067 4/29/2016 11:59:59  61.4    135.3638     NA  23.96 True          \n",
       "⋮  ⋮          ⋮         ⋮        ⋮        ⋮            ⋮   ⋮     ⋮             \n",
       "38 6962181067 5/7/2016  11:59:59 61.2     134.9229     NA  23.89 True          \n",
       "39 6962181067 5/8/2016  11:59:59 61.2     134.9229     NA  23.89 True          \n",
       "40 6962181067 5/9/2016  11:59:59 62.4     137.5685     NA  24.35 True          \n",
       "41 6962181067 5/10/2016 11:59:59 62.1     136.9071     NA  24.24 True          \n",
       "42 6962181067 5/11/2016 11:59:59 61.9     136.4661     NA  24.17 True          \n",
       "43 6962181067 5/12/2016 11:59:59 61.9     136.4661     NA  24.17 True          \n",
       "44 8877689391 4/12/2016 6:47:11  85.8     189.1566     NA  25.68 False         \n",
       "45 8877689391 4/13/2016 6:55:00  84.9     187.1725     NA  25.41 False         \n",
       "46 8877689391 4/14/2016 6:48:43  84.5     186.2906     NA  25.31 False         \n",
       "47 8877689391 4/16/2016 1:39:25  85.5     188.4952     NA  25.59 False         \n",
       "48 8877689391 4/18/2016 6:51:14  85.8     189.1566     NA  25.68 False         \n",
       "49 8877689391 4/19/2016 6:39:31  85.3     188.0543     NA  25.53 False         \n",
       "50 8877689391 4/20/2016 6:44:54  84.9     187.1725     NA  25.41 False         \n",
       "51 8877689391 4/21/2016 6:50:27  84.5     186.2906     NA  25.29 False         \n",
       "52 8877689391 4/23/2016 7:22:28  85.5     188.4952     NA  25.59 False         \n",
       "53 8877689391 4/24/2016 7:38:05  85.5     188.4952     NA  25.59 False         \n",
       "54 8877689391 4/25/2016 6:40:16  85.4     188.2748     NA  25.56 False         \n",
       "55 8877689391 4/26/2016 6:50:27  85.1     187.6134     NA  25.49 False         \n",
       "56 8877689391 4/27/2016 6:51:05  85.4     188.2748     NA  25.56 False         \n",
       "57 8877689391 4/28/2016 6:50:03  85.1     187.6134     NA  25.49 False         \n",
       "58 8877689391 4/29/2016 6:49:55  84.9     187.1725     NA  25.41 False         \n",
       "59 8877689391 4/30/2016 7:49:03  85.5     188.4952     NA  25.59 False         \n",
       "60 8877689391 5/1/2016  8:47:49  85.3     188.0543     NA  25.53 False         \n",
       "61 8877689391 5/3/2016  6:49:41  84.9     187.1725     NA  25.41 False         \n",
       "62 8877689391 5/4/2016  6:48:22  84.4     186.0702     NA  25.26 False         \n",
       "63 8877689391 5/6/2016  6:43:35  85.0     187.3929     NA  25.44 False         \n",
       "64 8877689391 5/8/2016  7:35:53  85.4     188.2748     NA  25.56 False         \n",
       "65 8877689391 5/9/2016  6:39:44  85.5     188.4952     NA  25.61 False         \n",
       "66 8877689391 5/11/2016 6:51:47  85.4     188.2748     NA  25.56 False         \n",
       "67 8877689391 5/12/2016 6:42:53  84.0     185.1883     NA  25.14 False         \n",
       "   LogId       \n",
       "1  1.462234e+12\n",
       "2  1.462320e+12\n",
       "3  1.460510e+12\n",
       "4  1.461283e+12\n",
       "5  1.463098e+12\n",
       "6  1.460938e+12\n",
       "7  1.462406e+12\n",
       "8  1.461024e+12\n",
       "9  1.461629e+12\n",
       "10 1.462147e+12\n",
       "11 1.462234e+12\n",
       "12 1.462838e+12\n",
       "13 1.460885e+12\n",
       "14 1.460506e+12\n",
       "15 1.460592e+12\n",
       "16 1.460678e+12\n",
       "17 1.460765e+12\n",
       "18 1.460851e+12\n",
       "19 1.460938e+12\n",
       "20 1.461024e+12\n",
       "21 1.461110e+12\n",
       "22 1.461197e+12\n",
       "23 1.461283e+12\n",
       "24 1.461370e+12\n",
       "25 1.461456e+12\n",
       "26 1.461542e+12\n",
       "27 1.461629e+12\n",
       "28 1.461802e+12\n",
       "29 1.461888e+12\n",
       "30 1.461974e+12\n",
       "⋮  ⋮           \n",
       "38 1.462666e+12\n",
       "39 1.462752e+12\n",
       "40 1.462838e+12\n",
       "41 1.462925e+12\n",
       "42 1.463011e+12\n",
       "43 1.463098e+12\n",
       "44 1.460444e+12\n",
       "45 1.460531e+12\n",
       "46 1.460617e+12\n",
       "47 1.460814e+12\n",
       "48 1.460962e+12\n",
       "49 1.461048e+12\n",
       "50 1.461135e+12\n",
       "51 1.461221e+12\n",
       "52 1.461396e+12\n",
       "53 1.461483e+12\n",
       "54 1.461566e+12\n",
       "55 1.461653e+12\n",
       "56 1.461740e+12\n",
       "57 1.461826e+12\n",
       "58 1.461913e+12\n",
       "59 1.462003e+12\n",
       "60 1.462092e+12\n",
       "61 1.462258e+12\n",
       "62 1.462345e+12\n",
       "63 1.462517e+12\n",
       "64 1.462693e+12\n",
       "65 1.462776e+12\n",
       "66 1.462950e+12\n",
       "67 1.463035e+12"
      ]
     },
     "metadata": {},
     "output_type": "display_data"
    }
   ],
   "source": [
    "weight_Info %>%\n",
    "  separate(Date, c(\"Date\", \"Time\"), \" \")\n",
    "weight_Info$Date <- as.POSIXct(weight_Info$Date, format=\"%m/%d/%Y\") "
   ]
  },
  {
   "cell_type": "code",
   "execution_count": 37,
   "id": "f86f62b5",
   "metadata": {},
   "outputs": [],
   "source": [
    "weight_Info$Id <- weight_Info$Id %>% as.character()"
   ]
  },
  {
   "cell_type": "code",
   "execution_count": 38,
   "id": "c9e89c51",
   "metadata": {},
   "outputs": [
    {
     "data": {
      "image/png": "[encoded data removed]",
      "text/plain": [
       "plot without title"
      ]
     },
     "metadata": {
      "image/png": {
       "height": 420,
       "width": 420
      }
     },
     "output_type": "display_data"
    }
   ],
   "source": [
    "ggplot(data=weight_Info, aes(x=Date, y=WeightPounds, color=Id)) + geom_point(size=3) + geom_line(linewidth=1) +\n",
    "labs(titles=\"Weight of Users Over Time\",x=\"Date\",y=\"Weight (lbs)\") +\n",
    "theme(plot.title = element_text(hjust=0.5, size=20, face=\"bold\"), \n",
    "      axis.title.x = element_text(size=14, face=\"bold\"),\n",
    "      axis.title.y = element_text(size=14, face=\"bold\"),\n",
    "      axis.text.x = element_text(face=\"bold\", size=10),\n",
    "      axis.text.y = element_text(face=\"bold\", size=10))"
   ]
  },
  {
   "cell_type": "code",
   "execution_count": 39,
   "id": "49536d42",
   "metadata": {},
   "outputs": [
    {
     "data": {
      "text/html": [
       "<table class=\"dataframe\">\n",
       "<caption>A data.frame: 6 × 19</caption>\n",
       "<thead>\n",
       "\t<tr><th></th><th scope=col>Id</th><th scope=col>SleepDay</th><th scope=col>TotalSleepRecords</th><th scope=col>TotalMinutesAsleep</th><th scope=col>TotalTimeInBed</th><th scope=col>ActivityDate</th><th scope=col>TotalSteps</th><th scope=col>TotalDistance</th><th scope=col>TrackerDistance</th><th scope=col>LoggedActivitiesDistance</th><th scope=col>VeryActiveDistance</th><th scope=col>ModeratelyActiveDistance</th><th scope=col>LightActiveDistance</th><th scope=col>SedentaryActiveDistance</th><th scope=col>VeryActiveMinutes</th><th scope=col>FairlyActiveMinutes</th><th scope=col>LightlyActiveMinutes</th><th scope=col>SedentaryMinutes</th><th scope=col>Calories</th></tr>\n",
       "\t<tr><th></th><th scope=col>&lt;dbl&gt;</th><th scope=col>&lt;chr&gt;</th><th scope=col>&lt;int&gt;</th><th scope=col>&lt;int&gt;</th><th scope=col>&lt;int&gt;</th><th scope=col>&lt;chr&gt;</th><th scope=col>&lt;int&gt;</th><th scope=col>&lt;dbl&gt;</th><th scope=col>&lt;dbl&gt;</th><th scope=col>&lt;dbl&gt;</th><th scope=col>&lt;dbl&gt;</th><th scope=col>&lt;dbl&gt;</th><th scope=col>&lt;dbl&gt;</th><th scope=col>&lt;dbl&gt;</th><th scope=col>&lt;int&gt;</th><th scope=col>&lt;int&gt;</th><th scope=col>&lt;int&gt;</th><th scope=col>&lt;int&gt;</th><th scope=col>&lt;int&gt;</th></tr>\n",
       "</thead>\n",
       "<tbody>\n",
       "\t<tr><th scope=row>1</th><td>1503960366</td><td>4/12/2016 12:00:00 AM</td><td>1</td><td>327</td><td>346</td><td>5/7/2016 </td><td>11992</td><td>7.71</td><td>7.71</td><td>0</td><td>2.46</td><td>2.12</td><td>3.13</td><td>0</td><td>37</td><td>46</td><td>175</td><td>833</td><td>1821</td></tr>\n",
       "\t<tr><th scope=row>2</th><td>1503960366</td><td>4/12/2016 12:00:00 AM</td><td>1</td><td>327</td><td>346</td><td>5/6/2016 </td><td>12159</td><td>8.03</td><td>8.03</td><td>0</td><td>1.97</td><td>0.25</td><td>5.81</td><td>0</td><td>24</td><td> 6</td><td>289</td><td>754</td><td>1896</td></tr>\n",
       "\t<tr><th scope=row>3</th><td>1503960366</td><td>4/12/2016 12:00:00 AM</td><td>1</td><td>327</td><td>346</td><td>5/1/2016 </td><td>10602</td><td>6.81</td><td>6.81</td><td>0</td><td>2.29</td><td>1.60</td><td>2.92</td><td>0</td><td>33</td><td>35</td><td>246</td><td>730</td><td>1820</td></tr>\n",
       "\t<tr><th scope=row>4</th><td>1503960366</td><td>4/12/2016 12:00:00 AM</td><td>1</td><td>327</td><td>346</td><td>4/30/2016</td><td>14673</td><td>9.25</td><td>9.25</td><td>0</td><td>3.56</td><td>1.42</td><td>4.27</td><td>0</td><td>52</td><td>34</td><td>217</td><td>712</td><td>1947</td></tr>\n",
       "\t<tr><th scope=row>5</th><td>1503960366</td><td>4/12/2016 12:00:00 AM</td><td>1</td><td>327</td><td>346</td><td>4/12/2016</td><td>13162</td><td>8.50</td><td>8.50</td><td>0</td><td>1.88</td><td>0.55</td><td>6.06</td><td>0</td><td>25</td><td>13</td><td>328</td><td>728</td><td>1985</td></tr>\n",
       "\t<tr><th scope=row>6</th><td>1503960366</td><td>4/12/2016 12:00:00 AM</td><td>1</td><td>327</td><td>346</td><td>4/13/2016</td><td>10735</td><td>6.97</td><td>6.97</td><td>0</td><td>1.57</td><td>0.69</td><td>4.71</td><td>0</td><td>21</td><td>19</td><td>217</td><td>776</td><td>1797</td></tr>\n",
       "</tbody>\n",
       "</table>\n"
      ],
      "text/latex": [
       "A data.frame: 6 × 19\n",
       "\\begin{tabular}{r|lllllllllllllllllll}\n",
       "  & Id & SleepDay & TotalSleepRecords & TotalMinutesAsleep & TotalTimeInBed & ActivityDate & TotalSteps & TotalDistance & TrackerDistance & LoggedActivitiesDistance & VeryActiveDistance & ModeratelyActiveDistance & LightActiveDistance & SedentaryActiveDistance & VeryActiveMinutes & FairlyActiveMinutes & LightlyActiveMinutes & SedentaryMinutes & Calories\\\\\n",
       "  & <dbl> & <chr> & <int> & <int> & <int> & <chr> & <int> & <dbl> & <dbl> & <dbl> & <dbl> & <dbl> & <dbl> & <dbl> & <int> & <int> & <int> & <int> & <int>\\\\\n",
       "\\hline\n",
       "\t1 & 1503960366 & 4/12/2016 12:00:00 AM & 1 & 327 & 346 & 5/7/2016  & 11992 & 7.71 & 7.71 & 0 & 2.46 & 2.12 & 3.13 & 0 & 37 & 46 & 175 & 833 & 1821\\\\\n",
       "\t2 & 1503960366 & 4/12/2016 12:00:00 AM & 1 & 327 & 346 & 5/6/2016  & 12159 & 8.03 & 8.03 & 0 & 1.97 & 0.25 & 5.81 & 0 & 24 &  6 & 289 & 754 & 1896\\\\\n",
       "\t3 & 1503960366 & 4/12/2016 12:00:00 AM & 1 & 327 & 346 & 5/1/2016  & 10602 & 6.81 & 6.81 & 0 & 2.29 & 1.60 & 2.92 & 0 & 33 & 35 & 246 & 730 & 1820\\\\\n",
       "\t4 & 1503960366 & 4/12/2016 12:00:00 AM & 1 & 327 & 346 & 4/30/2016 & 14673 & 9.25 & 9.25 & 0 & 3.56 & 1.42 & 4.27 & 0 & 52 & 34 & 217 & 712 & 1947\\\\\n",
       "\t5 & 1503960366 & 4/12/2016 12:00:00 AM & 1 & 327 & 346 & 4/12/2016 & 13162 & 8.50 & 8.50 & 0 & 1.88 & 0.55 & 6.06 & 0 & 25 & 13 & 328 & 728 & 1985\\\\\n",
       "\t6 & 1503960366 & 4/12/2016 12:00:00 AM & 1 & 327 & 346 & 4/13/2016 & 10735 & 6.97 & 6.97 & 0 & 1.57 & 0.69 & 4.71 & 0 & 21 & 19 & 217 & 776 & 1797\\\\\n",
       "\\end{tabular}\n"
      ],
      "text/markdown": [
       "\n",
       "A data.frame: 6 × 19\n",
       "\n",
       "| <!--/--> | Id &lt;dbl&gt; | SleepDay &lt;chr&gt; | TotalSleepRecords &lt;int&gt; | TotalMinutesAsleep &lt;int&gt; | TotalTimeInBed &lt;int&gt; | ActivityDate &lt;chr&gt; | TotalSteps &lt;int&gt; | TotalDistance &lt;dbl&gt; | TrackerDistance &lt;dbl&gt; | LoggedActivitiesDistance &lt;dbl&gt; | VeryActiveDistance &lt;dbl&gt; | ModeratelyActiveDistance &lt;dbl&gt; | LightActiveDistance &lt;dbl&gt; | SedentaryActiveDistance &lt;dbl&gt; | VeryActiveMinutes &lt;int&gt; | FairlyActiveMinutes &lt;int&gt; | LightlyActiveMinutes &lt;int&gt; | SedentaryMinutes &lt;int&gt; | Calories &lt;int&gt; |\n",
       "|---|---|---|---|---|---|---|---|---|---|---|---|---|---|---|---|---|---|---|---|\n",
       "| 1 | 1503960366 | 4/12/2016 12:00:00 AM | 1 | 327 | 346 | 5/7/2016  | 11992 | 7.71 | 7.71 | 0 | 2.46 | 2.12 | 3.13 | 0 | 37 | 46 | 175 | 833 | 1821 |\n",
       "| 2 | 1503960366 | 4/12/2016 12:00:00 AM | 1 | 327 | 346 | 5/6/2016  | 12159 | 8.03 | 8.03 | 0 | 1.97 | 0.25 | 5.81 | 0 | 24 |  6 | 289 | 754 | 1896 |\n",
       "| 3 | 1503960366 | 4/12/2016 12:00:00 AM | 1 | 327 | 346 | 5/1/2016  | 10602 | 6.81 | 6.81 | 0 | 2.29 | 1.60 | 2.92 | 0 | 33 | 35 | 246 | 730 | 1820 |\n",
       "| 4 | 1503960366 | 4/12/2016 12:00:00 AM | 1 | 327 | 346 | 4/30/2016 | 14673 | 9.25 | 9.25 | 0 | 3.56 | 1.42 | 4.27 | 0 | 52 | 34 | 217 | 712 | 1947 |\n",
       "| 5 | 1503960366 | 4/12/2016 12:00:00 AM | 1 | 327 | 346 | 4/12/2016 | 13162 | 8.50 | 8.50 | 0 | 1.88 | 0.55 | 6.06 | 0 | 25 | 13 | 328 | 728 | 1985 |\n",
       "| 6 | 1503960366 | 4/12/2016 12:00:00 AM | 1 | 327 | 346 | 4/13/2016 | 10735 | 6.97 | 6.97 | 0 | 1.57 | 0.69 | 4.71 | 0 | 21 | 19 | 217 | 776 | 1797 |\n",
       "\n"
      ],
      "text/plain": [
       "  Id         SleepDay              TotalSleepRecords TotalMinutesAsleep\n",
       "1 1503960366 4/12/2016 12:00:00 AM 1                 327               \n",
       "2 1503960366 4/12/2016 12:00:00 AM 1                 327               \n",
       "3 1503960366 4/12/2016 12:00:00 AM 1                 327               \n",
       "4 1503960366 4/12/2016 12:00:00 AM 1                 327               \n",
       "5 1503960366 4/12/2016 12:00:00 AM 1                 327               \n",
       "6 1503960366 4/12/2016 12:00:00 AM 1                 327               \n",
       "  TotalTimeInBed ActivityDate TotalSteps TotalDistance TrackerDistance\n",
       "1 346            5/7/2016     11992      7.71          7.71           \n",
       "2 346            5/6/2016     12159      8.03          8.03           \n",
       "3 346            5/1/2016     10602      6.81          6.81           \n",
       "4 346            4/30/2016    14673      9.25          9.25           \n",
       "5 346            4/12/2016    13162      8.50          8.50           \n",
       "6 346            4/13/2016    10735      6.97          6.97           \n",
       "  LoggedActivitiesDistance VeryActiveDistance ModeratelyActiveDistance\n",
       "1 0                        2.46               2.12                    \n",
       "2 0                        1.97               0.25                    \n",
       "3 0                        2.29               1.60                    \n",
       "4 0                        3.56               1.42                    \n",
       "5 0                        1.88               0.55                    \n",
       "6 0                        1.57               0.69                    \n",
       "  LightActiveDistance SedentaryActiveDistance VeryActiveMinutes\n",
       "1 3.13                0                       37               \n",
       "2 5.81                0                       24               \n",
       "3 2.92                0                       33               \n",
       "4 4.27                0                       52               \n",
       "5 6.06                0                       25               \n",
       "6 4.71                0                       21               \n",
       "  FairlyActiveMinutes LightlyActiveMinutes SedentaryMinutes Calories\n",
       "1 46                  175                  833              1821    \n",
       "2  6                  289                  754              1896    \n",
       "3 35                  246                  730              1820    \n",
       "4 34                  217                  712              1947    \n",
       "5 13                  328                  728              1985    \n",
       "6 19                  217                  776              1797    "
      ]
     },
     "metadata": {},
     "output_type": "display_data"
    }
   ],
   "source": [
    "head(combined_data)"
   ]
  },
  {
   "cell_type": "code",
   "execution_count": 40,
   "id": "0b4372b9",
   "metadata": {},
   "outputs": [
    {
     "data": {
      "text/html": [
       "<table class=\"dataframe\">\n",
       "<caption>A tibble: 6 × 2</caption>\n",
       "<thead>\n",
       "\t<tr><th scope=col>Id</th><th scope=col>Average_calories</th></tr>\n",
       "\t<tr><th scope=col>&lt;fct&gt;</th><th scope=col>&lt;dbl&gt;</th></tr>\n",
       "</thead>\n",
       "<tbody>\n",
       "\t<tr><td>8378563200</td><td>3436.58</td></tr>\n",
       "\t<tr><td>5577150313</td><td>3359.63</td></tr>\n",
       "\t<tr><td>4388161847</td><td>3093.87</td></tr>\n",
       "\t<tr><td>4702921684</td><td>2965.55</td></tr>\n",
       "\t<tr><td>8053475328</td><td>2945.81</td></tr>\n",
       "\t<tr><td>1644430081</td><td>2811.30</td></tr>\n",
       "</tbody>\n",
       "</table>\n"
      ],
      "text/latex": [
       "A tibble: 6 × 2\n",
       "\\begin{tabular}{ll}\n",
       " Id & Average\\_calories\\\\\n",
       " <fct> & <dbl>\\\\\n",
       "\\hline\n",
       "\t 8378563200 & 3436.58\\\\\n",
       "\t 5577150313 & 3359.63\\\\\n",
       "\t 4388161847 & 3093.87\\\\\n",
       "\t 4702921684 & 2965.55\\\\\n",
       "\t 8053475328 & 2945.81\\\\\n",
       "\t 1644430081 & 2811.30\\\\\n",
       "\\end{tabular}\n"
      ],
      "text/markdown": [
       "\n",
       "A tibble: 6 × 2\n",
       "\n",
       "| Id &lt;fct&gt; | Average_calories &lt;dbl&gt; |\n",
       "|---|---|\n",
       "| 8378563200 | 3436.58 |\n",
       "| 5577150313 | 3359.63 |\n",
       "| 4388161847 | 3093.87 |\n",
       "| 4702921684 | 2965.55 |\n",
       "| 8053475328 | 2945.81 |\n",
       "| 1644430081 | 2811.30 |\n",
       "\n"
      ],
      "text/plain": [
       "  Id         Average_calories\n",
       "1 8378563200 3436.58         \n",
       "2 5577150313 3359.63         \n",
       "3 4388161847 3093.87         \n",
       "4 4702921684 2965.55         \n",
       "5 8053475328 2945.81         \n",
       "6 1644430081 2811.30         "
      ]
     },
     "metadata": {},
     "output_type": "display_data"
    }
   ],
   "source": [
    "Average_calories_df <- combined_data %>% group_by(Id) %>% \n",
    "    summarise(Average_calories = round(mean(Calories),2))\n",
    "Average_calories_df$Id <- Average_calories_df$Id %>% as.character()\n",
    "Average_calories_df <- Average_calories_df[order(-Average_calories_df$Average_calories), ]\n",
    "Average_calories_df$Id<-factor(Average_calories_df$Id, levels = Average_calories_df$Id)\n",
    "head(Average_calories_df)"
   ]
  },
  {
   "cell_type": "code",
   "execution_count": 41,
   "id": "04fc65c2",
   "metadata": {},
   "outputs": [
    {
     "data": {
      "image/png": "[encoded data removed]",
      "text/plain": [
       "plot without title"
      ]
     },
     "metadata": {
      "image/png": {
       "height": 420,
       "width": 420
      }
     },
     "output_type": "display_data"
    }
   ],
   "source": [
    "ggplot(data=Average_calories_df, aes(x=Id, y=Average_calories)) + geom_bar(stat=\"identity\", fill=\"blue\") +\n",
    "labs(titles=\"Average Calories Burned per User\",x=\"Users\",y=\"Calories Burned\") +\n",
    "theme(plot.title = element_text(hjust=0.5, size=20, face=\"bold\"), \n",
    "      axis.title.x = element_text(size=14, face=\"bold\"),\n",
    "      axis.title.y = element_text(size=14, face=\"bold\"),\n",
    "      axis.text.x = element_text(face=\"bold\", size=10, angle=90),\n",
    "      axis.text.y = element_text(face=\"bold\", size=10))"
   ]
  }
 ],
 "metadata": {
  "kernelspec": {
   "display_name": "R",
   "language": "R",
   "name": "ir"
  },
  "language_info": {
   "codemirror_mode": "r",
   "file_extension": ".r",
   "mimetype": "text/x-r-source",
   "name": "R",
   "pygments_lexer": "r",
   "version": "4.2.2"
  }
 },
 "nbformat": 4,
 "nbformat_minor": 5
}
